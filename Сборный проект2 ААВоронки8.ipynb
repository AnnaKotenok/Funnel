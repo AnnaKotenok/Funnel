{
 "cells": [
  {
   "cell_type": "markdown",
   "id": "28df1be9",
   "metadata": {},
   "source": [
    "# Тема: \"Изучение поведения пользователей мобильного приложения стартапа, продающего продукты питания\""
   ]
  },
  {
   "cell_type": "markdown",
   "id": "21cb5d7e",
   "metadata": {},
   "source": [
    "Краткое описание."
   ]
  },
  {
   "cell_type": "markdown",
   "id": "64c10dfe",
   "metadata": {},
   "source": [
    "Стартапу, продающему через мобильное приложение продукты питания, необходимо провести анализ поведения пользователей в мобильном приложении. Изучить воронку продаж. Отследить переходы на следующие этапы пользовательского пути. После проведения А/А/В теста необходимо принять решение о смене шрифтов в мобильном приложении."
   ]
  },
  {
   "cell_type": "markdown",
   "id": "7c2252ac",
   "metadata": {},
   "source": [
    "Цель проекта: изучение поведения пользователей, воронки продаж, проведение А/А/Б тестирования, анализ результатов"
   ]
  },
  {
   "cell_type": "markdown",
   "id": "786f1c4c",
   "metadata": {},
   "source": [
    "Задачи проекта:\n",
    "\n",
    "    Изучение поведения пользователей.\n",
    "    Изучение воронки продаж.\n",
    "    Проведение А/А/Б тестирования.\n",
    "    Анализ результатов."
   ]
  },
  {
   "cell_type": "markdown",
   "id": "b5c0637b",
   "metadata": {},
   "source": [
    "План (декомпозиция) проекта:\n",
    "\n",
    "    Изучение предоставленного датасета.\n",
    "    Подготовка данных, проверка пропусков, типов данных.\n",
    "    Подсчет событий в логе.\n",
    "    Подсчет пользователей в логе.\n",
    "    Подсчет среднего количества событий на пользователя.\n",
    "    Анализ временного периода предоставленных данных.\n",
    "    Отброс неподходящих данных по времени.\n",
    "    Изучение воронки событий.\n",
    "    Анализ видов событий и их частоты.\n",
    "    Подсчет пользователей, совершивших события.\n",
    "    Анализ порядка событий.\n",
    "    Подсчет доли пользователей, проходящих на следующий шаг воронки.\n",
    "    Подсчет потери пользователей.\n",
    "    Подсчет доли пользователей, проходящих до оплаты.\n",
    "    Изучение результата эксперимента.\n",
    "    Подсчет пользователей в каждой экспериментальной группе.\n",
    "    Подсчет статистических критериев разницы между выборками.\n",
    "    Написание выводов.\n",
    "    "
   ]
  },
  {
   "cell_type": "markdown",
   "id": "cf56be17",
   "metadata": {},
   "source": [
    "### Изучение предоставленного датасета."
   ]
  },
  {
   "cell_type": "code",
   "execution_count": 1,
   "id": "c9b5ea3f",
   "metadata": {},
   "outputs": [],
   "source": [
    "import os\n",
    "import pandas as pd\n",
    "import datetime as dt\n",
    "import numpy as np\n",
    "import matplotlib.pyplot as plt\n",
    "import math as mth\n",
    "import seaborn \n",
    "from pandas.plotting import register_matplotlib_converters\n",
    "import scipy.stats as stats\n",
    "from plotly import graph_objects as go\n",
    "from statsmodels. stats.weightstats import ztest as ztest\n",
    "# конвертеры, которые позволяют использовать типы pandas в matplotlib  \n",
    "register_matplotlib_converters() \n",
    "import warnings \n",
    "warnings.filterwarnings ('ignore')"
   ]
  },
  {
   "cell_type": "markdown",
   "id": "c77db784",
   "metadata": {},
   "source": [
    "Изучим датафрейм"
   ]
  },
  {
   "cell_type": "code",
   "execution_count": 2,
   "id": "28c03494",
   "metadata": {},
   "outputs": [],
   "source": [
    "pth1 = \"C:\\datasets\\logs_exp.csv\"\n",
    "\n",
    "if os.path.exists(pth1):\n",
    "    df = pd.read_csv(pth1, sep='\\t')\n",
    "else:\n",
    "    print('Something is wrong')"
   ]
  },
  {
   "cell_type": "markdown",
   "id": "22a2f920",
   "metadata": {},
   "source": [
    "Структура данных logs_exp:\n",
    "\n",
    "  1.  EventName — название события.\n",
    "  2.  DeviceIDHash — уникальный идентификатор пользователя.\n",
    "  3.  EventTimestamp — время события.\n",
    "  4.  ExpId — номер эксперимента: 246 и 247 — контрольные группы, а 248 — экспериментальная."
   ]
  },
  {
   "cell_type": "code",
   "execution_count": 3,
   "id": "8daa543d",
   "metadata": {},
   "outputs": [
    {
     "data": {
      "text/html": [
       "<div>\n",
       "<style scoped>\n",
       "    .dataframe tbody tr th:only-of-type {\n",
       "        vertical-align: middle;\n",
       "    }\n",
       "\n",
       "    .dataframe tbody tr th {\n",
       "        vertical-align: top;\n",
       "    }\n",
       "\n",
       "    .dataframe thead th {\n",
       "        text-align: right;\n",
       "    }\n",
       "</style>\n",
       "<table border=\"1\" class=\"dataframe\">\n",
       "  <thead>\n",
       "    <tr style=\"text-align: right;\">\n",
       "      <th></th>\n",
       "      <th>EventName</th>\n",
       "      <th>DeviceIDHash</th>\n",
       "      <th>EventTimestamp</th>\n",
       "      <th>ExpId</th>\n",
       "    </tr>\n",
       "  </thead>\n",
       "  <tbody>\n",
       "    <tr>\n",
       "      <th>0</th>\n",
       "      <td>MainScreenAppear</td>\n",
       "      <td>4575588528974610257</td>\n",
       "      <td>1564029816</td>\n",
       "      <td>246</td>\n",
       "    </tr>\n",
       "    <tr>\n",
       "      <th>1</th>\n",
       "      <td>MainScreenAppear</td>\n",
       "      <td>7416695313311560658</td>\n",
       "      <td>1564053102</td>\n",
       "      <td>246</td>\n",
       "    </tr>\n",
       "    <tr>\n",
       "      <th>2</th>\n",
       "      <td>PaymentScreenSuccessful</td>\n",
       "      <td>3518123091307005509</td>\n",
       "      <td>1564054127</td>\n",
       "      <td>248</td>\n",
       "    </tr>\n",
       "    <tr>\n",
       "      <th>3</th>\n",
       "      <td>CartScreenAppear</td>\n",
       "      <td>3518123091307005509</td>\n",
       "      <td>1564054127</td>\n",
       "      <td>248</td>\n",
       "    </tr>\n",
       "    <tr>\n",
       "      <th>4</th>\n",
       "      <td>PaymentScreenSuccessful</td>\n",
       "      <td>6217807653094995999</td>\n",
       "      <td>1564055322</td>\n",
       "      <td>248</td>\n",
       "    </tr>\n",
       "  </tbody>\n",
       "</table>\n",
       "</div>"
      ],
      "text/plain": [
       "                 EventName         DeviceIDHash  EventTimestamp  ExpId\n",
       "0         MainScreenAppear  4575588528974610257      1564029816    246\n",
       "1         MainScreenAppear  7416695313311560658      1564053102    246\n",
       "2  PaymentScreenSuccessful  3518123091307005509      1564054127    248\n",
       "3         CartScreenAppear  3518123091307005509      1564054127    248\n",
       "4  PaymentScreenSuccessful  6217807653094995999      1564055322    248"
      ]
     },
     "execution_count": 3,
     "metadata": {},
     "output_type": "execute_result"
    }
   ],
   "source": [
    "df.head(5)"
   ]
  },
  {
   "cell_type": "code",
   "execution_count": 4,
   "id": "f18ca51e",
   "metadata": {},
   "outputs": [
    {
     "name": "stdout",
     "output_type": "stream",
     "text": [
      "<class 'pandas.core.frame.DataFrame'>\n",
      "RangeIndex: 244126 entries, 0 to 244125\n",
      "Data columns (total 4 columns):\n",
      " #   Column          Non-Null Count   Dtype \n",
      "---  ------          --------------   ----- \n",
      " 0   EventName       244126 non-null  object\n",
      " 1   DeviceIDHash    244126 non-null  int64 \n",
      " 2   EventTimestamp  244126 non-null  int64 \n",
      " 3   ExpId           244126 non-null  int64 \n",
      "dtypes: int64(3), object(1)\n",
      "memory usage: 7.5+ MB\n"
     ]
    }
   ],
   "source": [
    " df.info()"
   ]
  },
  {
   "cell_type": "markdown",
   "id": "b73e9c58",
   "metadata": {},
   "source": [
    "Датасет содержит 244126 не нулевых значений. Пропусков нет. Есть несоответствия формата некоторых данных их содержанию. "
   ]
  },
  {
   "cell_type": "markdown",
   "id": "9317c292",
   "metadata": {},
   "source": [
    "### Подготовка данных."
   ]
  },
  {
   "cell_type": "markdown",
   "id": "e5f4d62e",
   "metadata": {},
   "source": [
    "Изменим названия колонок на более удобные."
   ]
  },
  {
   "cell_type": "code",
   "execution_count": 5,
   "id": "ec61d98c",
   "metadata": {},
   "outputs": [],
   "source": [
    "df.columns = df.columns.str.lower().str.replace(' ', '_')"
   ]
  },
  {
   "cell_type": "code",
   "execution_count": 6,
   "id": "1f078864",
   "metadata": {},
   "outputs": [],
   "source": [
    "df.columns=['event', 'user', 'timestamp', 'group']"
   ]
  },
  {
   "cell_type": "code",
   "execution_count": 7,
   "id": "77365601",
   "metadata": {},
   "outputs": [
    {
     "name": "stdout",
     "output_type": "stream",
     "text": [
      "<class 'pandas.core.frame.DataFrame'>\n",
      "RangeIndex: 244126 entries, 0 to 244125\n",
      "Data columns (total 4 columns):\n",
      " #   Column     Non-Null Count   Dtype \n",
      "---  ------     --------------   ----- \n",
      " 0   event      244126 non-null  object\n",
      " 1   user       244126 non-null  int64 \n",
      " 2   timestamp  244126 non-null  int64 \n",
      " 3   group      244126 non-null  int64 \n",
      "dtypes: int64(3), object(1)\n",
      "memory usage: 7.5+ MB\n"
     ]
    }
   ],
   "source": [
    " df.info()"
   ]
  },
  {
   "cell_type": "code",
   "execution_count": 8,
   "id": "1336765d",
   "metadata": {},
   "outputs": [
    {
     "data": {
      "text/html": [
       "<div>\n",
       "<style scoped>\n",
       "    .dataframe tbody tr th:only-of-type {\n",
       "        vertical-align: middle;\n",
       "    }\n",
       "\n",
       "    .dataframe tbody tr th {\n",
       "        vertical-align: top;\n",
       "    }\n",
       "\n",
       "    .dataframe thead th {\n",
       "        text-align: right;\n",
       "    }\n",
       "</style>\n",
       "<table border=\"1\" class=\"dataframe\">\n",
       "  <thead>\n",
       "    <tr style=\"text-align: right;\">\n",
       "      <th></th>\n",
       "      <th>event</th>\n",
       "      <th>user</th>\n",
       "      <th>timestamp</th>\n",
       "      <th>group</th>\n",
       "    </tr>\n",
       "  </thead>\n",
       "  <tbody>\n",
       "    <tr>\n",
       "      <th>0</th>\n",
       "      <td>MainScreenAppear</td>\n",
       "      <td>4575588528974610257</td>\n",
       "      <td>1564029816</td>\n",
       "      <td>246</td>\n",
       "    </tr>\n",
       "    <tr>\n",
       "      <th>1</th>\n",
       "      <td>MainScreenAppear</td>\n",
       "      <td>7416695313311560658</td>\n",
       "      <td>1564053102</td>\n",
       "      <td>246</td>\n",
       "    </tr>\n",
       "    <tr>\n",
       "      <th>2</th>\n",
       "      <td>PaymentScreenSuccessful</td>\n",
       "      <td>3518123091307005509</td>\n",
       "      <td>1564054127</td>\n",
       "      <td>248</td>\n",
       "    </tr>\n",
       "    <tr>\n",
       "      <th>3</th>\n",
       "      <td>CartScreenAppear</td>\n",
       "      <td>3518123091307005509</td>\n",
       "      <td>1564054127</td>\n",
       "      <td>248</td>\n",
       "    </tr>\n",
       "    <tr>\n",
       "      <th>4</th>\n",
       "      <td>PaymentScreenSuccessful</td>\n",
       "      <td>6217807653094995999</td>\n",
       "      <td>1564055322</td>\n",
       "      <td>248</td>\n",
       "    </tr>\n",
       "    <tr>\n",
       "      <th>5</th>\n",
       "      <td>CartScreenAppear</td>\n",
       "      <td>6217807653094995999</td>\n",
       "      <td>1564055323</td>\n",
       "      <td>248</td>\n",
       "    </tr>\n",
       "    <tr>\n",
       "      <th>6</th>\n",
       "      <td>OffersScreenAppear</td>\n",
       "      <td>8351860793733343758</td>\n",
       "      <td>1564066242</td>\n",
       "      <td>246</td>\n",
       "    </tr>\n",
       "    <tr>\n",
       "      <th>7</th>\n",
       "      <td>MainScreenAppear</td>\n",
       "      <td>5682100281902512875</td>\n",
       "      <td>1564085677</td>\n",
       "      <td>246</td>\n",
       "    </tr>\n",
       "    <tr>\n",
       "      <th>8</th>\n",
       "      <td>MainScreenAppear</td>\n",
       "      <td>1850981295691852772</td>\n",
       "      <td>1564086702</td>\n",
       "      <td>247</td>\n",
       "    </tr>\n",
       "    <tr>\n",
       "      <th>9</th>\n",
       "      <td>MainScreenAppear</td>\n",
       "      <td>5407636962369102641</td>\n",
       "      <td>1564112112</td>\n",
       "      <td>246</td>\n",
       "    </tr>\n",
       "  </tbody>\n",
       "</table>\n",
       "</div>"
      ],
      "text/plain": [
       "                     event                 user   timestamp  group\n",
       "0         MainScreenAppear  4575588528974610257  1564029816    246\n",
       "1         MainScreenAppear  7416695313311560658  1564053102    246\n",
       "2  PaymentScreenSuccessful  3518123091307005509  1564054127    248\n",
       "3         CartScreenAppear  3518123091307005509  1564054127    248\n",
       "4  PaymentScreenSuccessful  6217807653094995999  1564055322    248\n",
       "5         CartScreenAppear  6217807653094995999  1564055323    248\n",
       "6       OffersScreenAppear  8351860793733343758  1564066242    246\n",
       "7         MainScreenAppear  5682100281902512875  1564085677    246\n",
       "8         MainScreenAppear  1850981295691852772  1564086702    247\n",
       "9         MainScreenAppear  5407636962369102641  1564112112    246"
      ]
     },
     "execution_count": 8,
     "metadata": {},
     "output_type": "execute_result"
    }
   ],
   "source": [
    "df.head(10)"
   ]
  },
  {
   "cell_type": "markdown",
   "id": "6ea649d9",
   "metadata": {},
   "source": [
    "Изменим не соответствующие типы данных."
   ]
  },
  {
   "cell_type": "code",
   "execution_count": 9,
   "id": "b4330aea",
   "metadata": {},
   "outputs": [],
   "source": [
    "df['timestamp'] = pd.to_datetime(df['timestamp'], unit='s')"
   ]
  },
  {
   "cell_type": "markdown",
   "id": "caa4dbb2",
   "metadata": {},
   "source": [
    "Проверим изменения."
   ]
  },
  {
   "cell_type": "code",
   "execution_count": 10,
   "id": "7c82292a",
   "metadata": {},
   "outputs": [
    {
     "name": "stdout",
     "output_type": "stream",
     "text": [
      "<class 'pandas.core.frame.DataFrame'>\n",
      "RangeIndex: 244126 entries, 0 to 244125\n",
      "Data columns (total 4 columns):\n",
      " #   Column     Non-Null Count   Dtype         \n",
      "---  ------     --------------   -----         \n",
      " 0   event      244126 non-null  object        \n",
      " 1   user       244126 non-null  int64         \n",
      " 2   timestamp  244126 non-null  datetime64[ns]\n",
      " 3   group      244126 non-null  int64         \n",
      "dtypes: datetime64[ns](1), int64(2), object(1)\n",
      "memory usage: 7.5+ MB\n"
     ]
    }
   ],
   "source": [
    " df.info()"
   ]
  },
  {
   "cell_type": "markdown",
   "id": "6a74d0aa",
   "metadata": {},
   "source": [
    "Проверим датасет на дубликаты."
   ]
  },
  {
   "cell_type": "code",
   "execution_count": 11,
   "id": "223485c0",
   "metadata": {},
   "outputs": [
    {
     "data": {
      "text/plain": [
       "413"
      ]
     },
     "execution_count": 11,
     "metadata": {},
     "output_type": "execute_result"
    }
   ],
   "source": [
    "df.duplicated().sum()"
   ]
  },
  {
   "cell_type": "markdown",
   "id": "516f04dd",
   "metadata": {},
   "source": [
    "В датасете присутствует 413 дубликатов. С ними нужно будет поработать дальше по тексту проекта, посмотреть и принять решение об удалении."
   ]
  },
  {
   "cell_type": "markdown",
   "id": "e49c22e6",
   "metadata": {},
   "source": [
    "Проверим данные датафрейма на пропуски."
   ]
  },
  {
   "cell_type": "code",
   "execution_count": 12,
   "id": "62fb8842",
   "metadata": {},
   "outputs": [
    {
     "data": {
      "text/plain": [
       "event        0\n",
       "user         0\n",
       "timestamp    0\n",
       "group        0\n",
       "dtype: int64"
      ]
     },
     "execution_count": 12,
     "metadata": {},
     "output_type": "execute_result"
    }
   ],
   "source": [
    "df.isna().sum()"
   ]
  },
  {
   "cell_type": "markdown",
   "id": "25fcbc63",
   "metadata": {},
   "source": [
    "Пропусков нет."
   ]
  },
  {
   "cell_type": "code",
   "execution_count": 13,
   "id": "a92737b7",
   "metadata": {},
   "outputs": [
    {
     "data": {
      "text/html": [
       "<div>\n",
       "<style scoped>\n",
       "    .dataframe tbody tr th:only-of-type {\n",
       "        vertical-align: middle;\n",
       "    }\n",
       "\n",
       "    .dataframe tbody tr th {\n",
       "        vertical-align: top;\n",
       "    }\n",
       "\n",
       "    .dataframe thead th {\n",
       "        text-align: right;\n",
       "    }\n",
       "</style>\n",
       "<table border=\"1\" class=\"dataframe\">\n",
       "  <thead>\n",
       "    <tr style=\"text-align: right;\">\n",
       "      <th></th>\n",
       "      <th>event</th>\n",
       "      <th>user</th>\n",
       "      <th>timestamp</th>\n",
       "      <th>group</th>\n",
       "    </tr>\n",
       "  </thead>\n",
       "  <tbody>\n",
       "    <tr>\n",
       "      <th>130558</th>\n",
       "      <td>MainScreenAppear</td>\n",
       "      <td>33176906322804559</td>\n",
       "      <td>2019-08-04 15:37:55</td>\n",
       "      <td>248</td>\n",
       "    </tr>\n",
       "    <tr>\n",
       "      <th>130995</th>\n",
       "      <td>OffersScreenAppear</td>\n",
       "      <td>33176906322804559</td>\n",
       "      <td>2019-08-04 15:49:23</td>\n",
       "      <td>248</td>\n",
       "    </tr>\n",
       "    <tr>\n",
       "      <th>104108</th>\n",
       "      <td>CartScreenAppear</td>\n",
       "      <td>34565258828294726</td>\n",
       "      <td>2019-08-03 18:33:41</td>\n",
       "      <td>248</td>\n",
       "    </tr>\n",
       "    <tr>\n",
       "      <th>159302</th>\n",
       "      <td>PaymentScreenSuccessful</td>\n",
       "      <td>54903596035630984</td>\n",
       "      <td>2019-08-05 13:27:52</td>\n",
       "      <td>248</td>\n",
       "    </tr>\n",
       "    <tr>\n",
       "      <th>176813</th>\n",
       "      <td>PaymentScreenSuccessful</td>\n",
       "      <td>77364241990273403</td>\n",
       "      <td>2019-08-05 22:38:52</td>\n",
       "      <td>246</td>\n",
       "    </tr>\n",
       "    <tr>\n",
       "      <th>189896</th>\n",
       "      <td>MainScreenAppear</td>\n",
       "      <td>91292479590032512</td>\n",
       "      <td>2019-08-06 10:35:23</td>\n",
       "      <td>246</td>\n",
       "    </tr>\n",
       "    <tr>\n",
       "      <th>155464</th>\n",
       "      <td>MainScreenAppear</td>\n",
       "      <td>95206628315371849</td>\n",
       "      <td>2019-08-05 11:48:44</td>\n",
       "      <td>247</td>\n",
       "    </tr>\n",
       "    <tr>\n",
       "      <th>110479</th>\n",
       "      <td>MainScreenAppear</td>\n",
       "      <td>170935625628929269</td>\n",
       "      <td>2019-08-04 05:44:47</td>\n",
       "      <td>246</td>\n",
       "    </tr>\n",
       "    <tr>\n",
       "      <th>17037</th>\n",
       "      <td>CartScreenAppear</td>\n",
       "      <td>197027893265565660</td>\n",
       "      <td>2019-08-01 11:40:14</td>\n",
       "      <td>246</td>\n",
       "    </tr>\n",
       "    <tr>\n",
       "      <th>23421</th>\n",
       "      <td>CartScreenAppear</td>\n",
       "      <td>197027893265565660</td>\n",
       "      <td>2019-08-01 14:15:28</td>\n",
       "      <td>246</td>\n",
       "    </tr>\n",
       "    <tr>\n",
       "      <th>34223</th>\n",
       "      <td>CartScreenAppear</td>\n",
       "      <td>197027893265565660</td>\n",
       "      <td>2019-08-01 18:35:44</td>\n",
       "      <td>246</td>\n",
       "    </tr>\n",
       "    <tr>\n",
       "      <th>112562</th>\n",
       "      <td>CartScreenAppear</td>\n",
       "      <td>197027893265565660</td>\n",
       "      <td>2019-08-04 07:15:04</td>\n",
       "      <td>246</td>\n",
       "    </tr>\n",
       "    <tr>\n",
       "      <th>144045</th>\n",
       "      <td>CartScreenAppear</td>\n",
       "      <td>197027893265565660</td>\n",
       "      <td>2019-08-05 05:44:20</td>\n",
       "      <td>246</td>\n",
       "    </tr>\n",
       "    <tr>\n",
       "      <th>220672</th>\n",
       "      <td>MainScreenAppear</td>\n",
       "      <td>252409739172511110</td>\n",
       "      <td>2019-08-07 08:49:57</td>\n",
       "      <td>246</td>\n",
       "    </tr>\n",
       "    <tr>\n",
       "      <th>235186</th>\n",
       "      <td>CartScreenAppear</td>\n",
       "      <td>299409047914517767</td>\n",
       "      <td>2019-08-07 15:50:55</td>\n",
       "      <td>248</td>\n",
       "    </tr>\n",
       "    <tr>\n",
       "      <th>32113</th>\n",
       "      <td>PaymentScreenSuccessful</td>\n",
       "      <td>366093607806007780</td>\n",
       "      <td>2019-08-01 17:40:54</td>\n",
       "      <td>246</td>\n",
       "    </tr>\n",
       "    <tr>\n",
       "      <th>3573</th>\n",
       "      <td>MainScreenAppear</td>\n",
       "      <td>434103746454591587</td>\n",
       "      <td>2019-08-01 02:59:37</td>\n",
       "      <td>248</td>\n",
       "    </tr>\n",
       "    <tr>\n",
       "      <th>42988</th>\n",
       "      <td>CartScreenAppear</td>\n",
       "      <td>438481114985016111</td>\n",
       "      <td>2019-08-02 05:09:37</td>\n",
       "      <td>247</td>\n",
       "    </tr>\n",
       "    <tr>\n",
       "      <th>84545</th>\n",
       "      <td>PaymentScreenSuccessful</td>\n",
       "      <td>510822730682036735</td>\n",
       "      <td>2019-08-03 09:50:50</td>\n",
       "      <td>248</td>\n",
       "    </tr>\n",
       "    <tr>\n",
       "      <th>84546</th>\n",
       "      <td>PaymentScreenSuccessful</td>\n",
       "      <td>510822730682036735</td>\n",
       "      <td>2019-08-03 09:50:50</td>\n",
       "      <td>248</td>\n",
       "    </tr>\n",
       "    <tr>\n",
       "      <th>86618</th>\n",
       "      <td>MainScreenAppear</td>\n",
       "      <td>538346255722523869</td>\n",
       "      <td>2019-08-03 10:51:44</td>\n",
       "      <td>246</td>\n",
       "    </tr>\n",
       "    <tr>\n",
       "      <th>163986</th>\n",
       "      <td>MainScreenAppear</td>\n",
       "      <td>578778055564101635</td>\n",
       "      <td>2019-08-05 15:10:31</td>\n",
       "      <td>247</td>\n",
       "    </tr>\n",
       "    <tr>\n",
       "      <th>44073</th>\n",
       "      <td>PaymentScreenSuccessful</td>\n",
       "      <td>636437379427729086</td>\n",
       "      <td>2019-08-02 06:10:05</td>\n",
       "      <td>247</td>\n",
       "    </tr>\n",
       "    <tr>\n",
       "      <th>44074</th>\n",
       "      <td>PaymentScreenSuccessful</td>\n",
       "      <td>636437379427729086</td>\n",
       "      <td>2019-08-02 06:10:05</td>\n",
       "      <td>247</td>\n",
       "    </tr>\n",
       "    <tr>\n",
       "      <th>44075</th>\n",
       "      <td>PaymentScreenSuccessful</td>\n",
       "      <td>636437379427729086</td>\n",
       "      <td>2019-08-02 06:10:05</td>\n",
       "      <td>247</td>\n",
       "    </tr>\n",
       "    <tr>\n",
       "      <th>44077</th>\n",
       "      <td>PaymentScreenSuccessful</td>\n",
       "      <td>636437379427729086</td>\n",
       "      <td>2019-08-02 06:10:06</td>\n",
       "      <td>247</td>\n",
       "    </tr>\n",
       "    <tr>\n",
       "      <th>44078</th>\n",
       "      <td>PaymentScreenSuccessful</td>\n",
       "      <td>636437379427729086</td>\n",
       "      <td>2019-08-02 06:10:06</td>\n",
       "      <td>247</td>\n",
       "    </tr>\n",
       "    <tr>\n",
       "      <th>44079</th>\n",
       "      <td>PaymentScreenSuccessful</td>\n",
       "      <td>636437379427729086</td>\n",
       "      <td>2019-08-02 06:10:06</td>\n",
       "      <td>247</td>\n",
       "    </tr>\n",
       "    <tr>\n",
       "      <th>44080</th>\n",
       "      <td>PaymentScreenSuccessful</td>\n",
       "      <td>636437379427729086</td>\n",
       "      <td>2019-08-02 06:10:06</td>\n",
       "      <td>247</td>\n",
       "    </tr>\n",
       "    <tr>\n",
       "      <th>70387</th>\n",
       "      <td>MainScreenAppear</td>\n",
       "      <td>643792675919090543</td>\n",
       "      <td>2019-08-02 18:58:25</td>\n",
       "      <td>246</td>\n",
       "    </tr>\n",
       "  </tbody>\n",
       "</table>\n",
       "</div>"
      ],
      "text/plain": [
       "                          event                user           timestamp  group\n",
       "130558         MainScreenAppear   33176906322804559 2019-08-04 15:37:55    248\n",
       "130995       OffersScreenAppear   33176906322804559 2019-08-04 15:49:23    248\n",
       "104108         CartScreenAppear   34565258828294726 2019-08-03 18:33:41    248\n",
       "159302  PaymentScreenSuccessful   54903596035630984 2019-08-05 13:27:52    248\n",
       "176813  PaymentScreenSuccessful   77364241990273403 2019-08-05 22:38:52    246\n",
       "189896         MainScreenAppear   91292479590032512 2019-08-06 10:35:23    246\n",
       "155464         MainScreenAppear   95206628315371849 2019-08-05 11:48:44    247\n",
       "110479         MainScreenAppear  170935625628929269 2019-08-04 05:44:47    246\n",
       "17037          CartScreenAppear  197027893265565660 2019-08-01 11:40:14    246\n",
       "23421          CartScreenAppear  197027893265565660 2019-08-01 14:15:28    246\n",
       "34223          CartScreenAppear  197027893265565660 2019-08-01 18:35:44    246\n",
       "112562         CartScreenAppear  197027893265565660 2019-08-04 07:15:04    246\n",
       "144045         CartScreenAppear  197027893265565660 2019-08-05 05:44:20    246\n",
       "220672         MainScreenAppear  252409739172511110 2019-08-07 08:49:57    246\n",
       "235186         CartScreenAppear  299409047914517767 2019-08-07 15:50:55    248\n",
       "32113   PaymentScreenSuccessful  366093607806007780 2019-08-01 17:40:54    246\n",
       "3573           MainScreenAppear  434103746454591587 2019-08-01 02:59:37    248\n",
       "42988          CartScreenAppear  438481114985016111 2019-08-02 05:09:37    247\n",
       "84545   PaymentScreenSuccessful  510822730682036735 2019-08-03 09:50:50    248\n",
       "84546   PaymentScreenSuccessful  510822730682036735 2019-08-03 09:50:50    248\n",
       "86618          MainScreenAppear  538346255722523869 2019-08-03 10:51:44    246\n",
       "163986         MainScreenAppear  578778055564101635 2019-08-05 15:10:31    247\n",
       "44073   PaymentScreenSuccessful  636437379427729086 2019-08-02 06:10:05    247\n",
       "44074   PaymentScreenSuccessful  636437379427729086 2019-08-02 06:10:05    247\n",
       "44075   PaymentScreenSuccessful  636437379427729086 2019-08-02 06:10:05    247\n",
       "44077   PaymentScreenSuccessful  636437379427729086 2019-08-02 06:10:06    247\n",
       "44078   PaymentScreenSuccessful  636437379427729086 2019-08-02 06:10:06    247\n",
       "44079   PaymentScreenSuccessful  636437379427729086 2019-08-02 06:10:06    247\n",
       "44080   PaymentScreenSuccessful  636437379427729086 2019-08-02 06:10:06    247\n",
       "70387          MainScreenAppear  643792675919090543 2019-08-02 18:58:25    246"
      ]
     },
     "execution_count": 13,
     "metadata": {},
     "output_type": "execute_result"
    }
   ],
   "source": [
    "df[df.duplicated()==True].sort_values(by=['user','timestamp','event','group']).head(30)"
   ]
  },
  {
   "cell_type": "markdown",
   "id": "0e8051aa",
   "metadata": {},
   "source": [
    "При визуальном осмотре кусочка данных дубликатов можно даже заметить их повторяемость. Например данные юзера 636437379427729086"
   ]
  },
  {
   "cell_type": "code",
   "execution_count": 14,
   "id": "5a00f5f9",
   "metadata": {},
   "outputs": [
    {
     "data": {
      "text/html": [
       "<div>\n",
       "<style scoped>\n",
       "    .dataframe tbody tr th:only-of-type {\n",
       "        vertical-align: middle;\n",
       "    }\n",
       "\n",
       "    .dataframe tbody tr th {\n",
       "        vertical-align: top;\n",
       "    }\n",
       "\n",
       "    .dataframe thead th {\n",
       "        text-align: right;\n",
       "    }\n",
       "</style>\n",
       "<table border=\"1\" class=\"dataframe\">\n",
       "  <thead>\n",
       "    <tr style=\"text-align: right;\">\n",
       "      <th></th>\n",
       "      <th>event</th>\n",
       "      <th>user</th>\n",
       "      <th>timestamp</th>\n",
       "      <th>group</th>\n",
       "    </tr>\n",
       "  </thead>\n",
       "  <tbody>\n",
       "    <tr>\n",
       "      <th>44071</th>\n",
       "      <td>PaymentScreenSuccessful</td>\n",
       "      <td>636437379427729086</td>\n",
       "      <td>2019-08-02 06:10:05</td>\n",
       "      <td>247</td>\n",
       "    </tr>\n",
       "    <tr>\n",
       "      <th>44073</th>\n",
       "      <td>PaymentScreenSuccessful</td>\n",
       "      <td>636437379427729086</td>\n",
       "      <td>2019-08-02 06:10:05</td>\n",
       "      <td>247</td>\n",
       "    </tr>\n",
       "    <tr>\n",
       "      <th>44074</th>\n",
       "      <td>PaymentScreenSuccessful</td>\n",
       "      <td>636437379427729086</td>\n",
       "      <td>2019-08-02 06:10:05</td>\n",
       "      <td>247</td>\n",
       "    </tr>\n",
       "    <tr>\n",
       "      <th>44075</th>\n",
       "      <td>PaymentScreenSuccessful</td>\n",
       "      <td>636437379427729086</td>\n",
       "      <td>2019-08-02 06:10:05</td>\n",
       "      <td>247</td>\n",
       "    </tr>\n",
       "  </tbody>\n",
       "</table>\n",
       "</div>"
      ],
      "text/plain": [
       "                         event                user           timestamp  group\n",
       "44071  PaymentScreenSuccessful  636437379427729086 2019-08-02 06:10:05    247\n",
       "44073  PaymentScreenSuccessful  636437379427729086 2019-08-02 06:10:05    247\n",
       "44074  PaymentScreenSuccessful  636437379427729086 2019-08-02 06:10:05    247\n",
       "44075  PaymentScreenSuccessful  636437379427729086 2019-08-02 06:10:05    247"
      ]
     },
     "execution_count": 14,
     "metadata": {},
     "output_type": "execute_result"
    }
   ],
   "source": [
    "df[(df['user']==636437379427729086) & (df['timestamp']=='2019-08-02 06:10:05')]"
   ]
  },
  {
   "cell_type": "markdown",
   "id": "3173539d",
   "metadata": {},
   "source": [
    "Относительные потери дубликатов можно посчитать: всего данных 244126 строк, дубликатов 413. Это 0.17 % от имеющихся данных. Удалим дубликаты.\n"
   ]
  },
  {
   "cell_type": "code",
   "execution_count": 15,
   "id": "2792d8e2",
   "metadata": {},
   "outputs": [
    {
     "name": "stdout",
     "output_type": "stream",
     "text": [
      "Кол-во оставшихся дубликатов = 0\n"
     ]
    }
   ],
   "source": [
    "df = df.drop_duplicates()\n",
    "print('Кол-во оставшихся дубликатов =', df.duplicated().sum())"
   ]
  },
  {
   "cell_type": "code",
   "execution_count": 16,
   "id": "b9391ebe",
   "metadata": {},
   "outputs": [],
   "source": [
    "df = df.reset_index(drop=True)"
   ]
  },
  {
   "cell_type": "markdown",
   "id": "4d19233f",
   "metadata": {},
   "source": [
    "Добавим столбец даты и времени, а также отдельный столбец дат."
   ]
  },
  {
   "cell_type": "code",
   "execution_count": 17,
   "id": "1e707837",
   "metadata": {},
   "outputs": [
    {
     "data": {
      "text/html": [
       "<div>\n",
       "<style scoped>\n",
       "    .dataframe tbody tr th:only-of-type {\n",
       "        vertical-align: middle;\n",
       "    }\n",
       "\n",
       "    .dataframe tbody tr th {\n",
       "        vertical-align: top;\n",
       "    }\n",
       "\n",
       "    .dataframe thead th {\n",
       "        text-align: right;\n",
       "    }\n",
       "</style>\n",
       "<table border=\"1\" class=\"dataframe\">\n",
       "  <thead>\n",
       "    <tr style=\"text-align: right;\">\n",
       "      <th></th>\n",
       "      <th>event</th>\n",
       "      <th>user</th>\n",
       "      <th>timestamp</th>\n",
       "      <th>group</th>\n",
       "      <th>datetime</th>\n",
       "    </tr>\n",
       "  </thead>\n",
       "  <tbody>\n",
       "    <tr>\n",
       "      <th>0</th>\n",
       "      <td>MainScreenAppear</td>\n",
       "      <td>4575588528974610257</td>\n",
       "      <td>2019-07-25 04:43:36</td>\n",
       "      <td>246</td>\n",
       "      <td>2019-07-25 04:43:36</td>\n",
       "    </tr>\n",
       "    <tr>\n",
       "      <th>1</th>\n",
       "      <td>MainScreenAppear</td>\n",
       "      <td>7416695313311560658</td>\n",
       "      <td>2019-07-25 11:11:42</td>\n",
       "      <td>246</td>\n",
       "      <td>2019-07-25 11:11:42</td>\n",
       "    </tr>\n",
       "    <tr>\n",
       "      <th>2</th>\n",
       "      <td>PaymentScreenSuccessful</td>\n",
       "      <td>3518123091307005509</td>\n",
       "      <td>2019-07-25 11:28:47</td>\n",
       "      <td>248</td>\n",
       "      <td>2019-07-25 11:28:47</td>\n",
       "    </tr>\n",
       "    <tr>\n",
       "      <th>3</th>\n",
       "      <td>CartScreenAppear</td>\n",
       "      <td>3518123091307005509</td>\n",
       "      <td>2019-07-25 11:28:47</td>\n",
       "      <td>248</td>\n",
       "      <td>2019-07-25 11:28:47</td>\n",
       "    </tr>\n",
       "    <tr>\n",
       "      <th>4</th>\n",
       "      <td>PaymentScreenSuccessful</td>\n",
       "      <td>6217807653094995999</td>\n",
       "      <td>2019-07-25 11:48:42</td>\n",
       "      <td>248</td>\n",
       "      <td>2019-07-25 11:48:42</td>\n",
       "    </tr>\n",
       "  </tbody>\n",
       "</table>\n",
       "</div>"
      ],
      "text/plain": [
       "                     event                 user           timestamp  group  \\\n",
       "0         MainScreenAppear  4575588528974610257 2019-07-25 04:43:36    246   \n",
       "1         MainScreenAppear  7416695313311560658 2019-07-25 11:11:42    246   \n",
       "2  PaymentScreenSuccessful  3518123091307005509 2019-07-25 11:28:47    248   \n",
       "3         CartScreenAppear  3518123091307005509 2019-07-25 11:28:47    248   \n",
       "4  PaymentScreenSuccessful  6217807653094995999 2019-07-25 11:48:42    248   \n",
       "\n",
       "             datetime  \n",
       "0 2019-07-25 04:43:36  \n",
       "1 2019-07-25 11:11:42  \n",
       "2 2019-07-25 11:28:47  \n",
       "3 2019-07-25 11:28:47  \n",
       "4 2019-07-25 11:48:42  "
      ]
     },
     "execution_count": 17,
     "metadata": {},
     "output_type": "execute_result"
    }
   ],
   "source": [
    "df['datetime'] = pd.to_datetime(df['timestamp'], unit='s')\n",
    "df.head(5)"
   ]
  },
  {
   "cell_type": "code",
   "execution_count": 18,
   "id": "fd0ed9d9",
   "metadata": {},
   "outputs": [
    {
     "data": {
      "text/html": [
       "<div>\n",
       "<style scoped>\n",
       "    .dataframe tbody tr th:only-of-type {\n",
       "        vertical-align: middle;\n",
       "    }\n",
       "\n",
       "    .dataframe tbody tr th {\n",
       "        vertical-align: top;\n",
       "    }\n",
       "\n",
       "    .dataframe thead th {\n",
       "        text-align: right;\n",
       "    }\n",
       "</style>\n",
       "<table border=\"1\" class=\"dataframe\">\n",
       "  <thead>\n",
       "    <tr style=\"text-align: right;\">\n",
       "      <th></th>\n",
       "      <th>event</th>\n",
       "      <th>user</th>\n",
       "      <th>timestamp</th>\n",
       "      <th>group</th>\n",
       "      <th>datetime</th>\n",
       "      <th>date</th>\n",
       "    </tr>\n",
       "  </thead>\n",
       "  <tbody>\n",
       "    <tr>\n",
       "      <th>0</th>\n",
       "      <td>MainScreenAppear</td>\n",
       "      <td>4575588528974610257</td>\n",
       "      <td>2019-07-25 04:43:36</td>\n",
       "      <td>246</td>\n",
       "      <td>2019-07-25 04:43:36</td>\n",
       "      <td>2019-07-25</td>\n",
       "    </tr>\n",
       "    <tr>\n",
       "      <th>1</th>\n",
       "      <td>MainScreenAppear</td>\n",
       "      <td>7416695313311560658</td>\n",
       "      <td>2019-07-25 11:11:42</td>\n",
       "      <td>246</td>\n",
       "      <td>2019-07-25 11:11:42</td>\n",
       "      <td>2019-07-25</td>\n",
       "    </tr>\n",
       "    <tr>\n",
       "      <th>2</th>\n",
       "      <td>PaymentScreenSuccessful</td>\n",
       "      <td>3518123091307005509</td>\n",
       "      <td>2019-07-25 11:28:47</td>\n",
       "      <td>248</td>\n",
       "      <td>2019-07-25 11:28:47</td>\n",
       "      <td>2019-07-25</td>\n",
       "    </tr>\n",
       "    <tr>\n",
       "      <th>3</th>\n",
       "      <td>CartScreenAppear</td>\n",
       "      <td>3518123091307005509</td>\n",
       "      <td>2019-07-25 11:28:47</td>\n",
       "      <td>248</td>\n",
       "      <td>2019-07-25 11:28:47</td>\n",
       "      <td>2019-07-25</td>\n",
       "    </tr>\n",
       "    <tr>\n",
       "      <th>4</th>\n",
       "      <td>PaymentScreenSuccessful</td>\n",
       "      <td>6217807653094995999</td>\n",
       "      <td>2019-07-25 11:48:42</td>\n",
       "      <td>248</td>\n",
       "      <td>2019-07-25 11:48:42</td>\n",
       "      <td>2019-07-25</td>\n",
       "    </tr>\n",
       "  </tbody>\n",
       "</table>\n",
       "</div>"
      ],
      "text/plain": [
       "                     event                 user           timestamp  group  \\\n",
       "0         MainScreenAppear  4575588528974610257 2019-07-25 04:43:36    246   \n",
       "1         MainScreenAppear  7416695313311560658 2019-07-25 11:11:42    246   \n",
       "2  PaymentScreenSuccessful  3518123091307005509 2019-07-25 11:28:47    248   \n",
       "3         CartScreenAppear  3518123091307005509 2019-07-25 11:28:47    248   \n",
       "4  PaymentScreenSuccessful  6217807653094995999 2019-07-25 11:48:42    248   \n",
       "\n",
       "             datetime       date  \n",
       "0 2019-07-25 04:43:36 2019-07-25  \n",
       "1 2019-07-25 11:11:42 2019-07-25  \n",
       "2 2019-07-25 11:28:47 2019-07-25  \n",
       "3 2019-07-25 11:28:47 2019-07-25  \n",
       "4 2019-07-25 11:48:42 2019-07-25  "
      ]
     },
     "execution_count": 18,
     "metadata": {},
     "output_type": "execute_result"
    }
   ],
   "source": [
    "df['date'] = df['datetime'].dt.date.astype('datetime64')\n",
    "df.head(5)"
   ]
  },
  {
   "cell_type": "markdown",
   "id": "53e17ae3",
   "metadata": {},
   "source": [
    "Проверим типы данных.\n"
   ]
  },
  {
   "cell_type": "code",
   "execution_count": 19,
   "id": "1cf7f031",
   "metadata": {},
   "outputs": [
    {
     "name": "stdout",
     "output_type": "stream",
     "text": [
      "<class 'pandas.core.frame.DataFrame'>\n",
      "RangeIndex: 243713 entries, 0 to 243712\n",
      "Data columns (total 6 columns):\n",
      " #   Column     Non-Null Count   Dtype         \n",
      "---  ------     --------------   -----         \n",
      " 0   event      243713 non-null  object        \n",
      " 1   user       243713 non-null  int64         \n",
      " 2   timestamp  243713 non-null  datetime64[ns]\n",
      " 3   group      243713 non-null  int64         \n",
      " 4   datetime   243713 non-null  datetime64[ns]\n",
      " 5   date       243713 non-null  datetime64[ns]\n",
      "dtypes: datetime64[ns](3), int64(2), object(1)\n",
      "memory usage: 11.2+ MB\n"
     ]
    }
   ],
   "source": [
    "df.info()"
   ]
  },
  {
   "cell_type": "markdown",
   "id": "8338d48b",
   "metadata": {},
   "source": [
    "Проверим данные колонки group на уникальные значения и на пересечение значений.\n"
   ]
  },
  {
   "cell_type": "code",
   "execution_count": 20,
   "id": "045cca1c",
   "metadata": {},
   "outputs": [
    {
     "data": {
      "text/plain": [
       "array([246, 248, 247], dtype=int64)"
      ]
     },
     "execution_count": 20,
     "metadata": {},
     "output_type": "execute_result"
    }
   ],
   "source": [
    "df['group'].unique()"
   ]
  },
  {
   "cell_type": "code",
   "execution_count": 21,
   "id": "001add8b",
   "metadata": {},
   "outputs": [
    {
     "data": {
      "text/plain": [
       "0"
      ]
     },
     "execution_count": 21,
     "metadata": {},
     "output_type": "execute_result"
    }
   ],
   "source": [
    "# отбираем группы из данных \n",
    "group_246 =df.query('group == \"246\"') \n",
    "group_247=df.query('group == \"247\"') \n",
    "\n",
    "\n",
    "# получаем id пользователей, попавших в обе группы \n",
    "group_int=list(np.intersect1d(group_246['user'], group_247['user']))\n",
    "len(group_int)"
   ]
  },
  {
   "cell_type": "code",
   "execution_count": 22,
   "id": "30039889",
   "metadata": {},
   "outputs": [
    {
     "data": {
      "text/plain": [
       "0"
      ]
     },
     "execution_count": 22,
     "metadata": {},
     "output_type": "execute_result"
    }
   ],
   "source": [
    "# отбираем группы из данных \n",
    "group_248=df.query('group == \"248\"')\n",
    "group_247=df.query('group == \"247\"') \n",
    "\n",
    "\n",
    "# получаем id пользователей, попавших в обе группы \n",
    "group_int=list(np.intersect1d(group_248['user'], group_247['user']))\n",
    "len(group_int)"
   ]
  },
  {
   "cell_type": "code",
   "execution_count": 23,
   "id": "b5f0a3bd",
   "metadata": {},
   "outputs": [
    {
     "data": {
      "text/plain": [
       "0"
      ]
     },
     "execution_count": 23,
     "metadata": {},
     "output_type": "execute_result"
    }
   ],
   "source": [
    "group_246 =df.query('group == \"246\"') \n",
    "group_248=df.query('group == \"248\"')\n",
    "\n",
    "# получаем id пользователей, попавших в обе группы \n",
    "group_int=list(np.intersect1d(group_248['user'], group_246['user']))\n",
    "len(group_int)"
   ]
  },
  {
   "cell_type": "markdown",
   "id": "60fb5d57",
   "metadata": {},
   "source": [
    "Данные групп 246, 247 и 248 не пересекаются."
   ]
  },
  {
   "cell_type": "markdown",
   "id": "3af39c68",
   "metadata": {},
   "source": [
    "Посмотрим на размеры групп."
   ]
  },
  {
   "cell_type": "code",
   "execution_count": 24,
   "id": "21e954a3",
   "metadata": {},
   "outputs": [
    {
     "data": {
      "text/html": [
       "<div>\n",
       "<style scoped>\n",
       "    .dataframe tbody tr th:only-of-type {\n",
       "        vertical-align: middle;\n",
       "    }\n",
       "\n",
       "    .dataframe tbody tr th {\n",
       "        vertical-align: top;\n",
       "    }\n",
       "\n",
       "    .dataframe thead th {\n",
       "        text-align: right;\n",
       "    }\n",
       "</style>\n",
       "<table border=\"1\" class=\"dataframe\">\n",
       "  <thead>\n",
       "    <tr style=\"text-align: right;\">\n",
       "      <th></th>\n",
       "      <th>user</th>\n",
       "    </tr>\n",
       "    <tr>\n",
       "      <th>group</th>\n",
       "      <th></th>\n",
       "    </tr>\n",
       "  </thead>\n",
       "  <tbody>\n",
       "    <tr>\n",
       "      <th>246</th>\n",
       "      <td>2489</td>\n",
       "    </tr>\n",
       "    <tr>\n",
       "      <th>247</th>\n",
       "      <td>2520</td>\n",
       "    </tr>\n",
       "    <tr>\n",
       "      <th>248</th>\n",
       "      <td>2542</td>\n",
       "    </tr>\n",
       "  </tbody>\n",
       "</table>\n",
       "</div>"
      ],
      "text/plain": [
       "       user\n",
       "group      \n",
       "246    2489\n",
       "247    2520\n",
       "248    2542"
      ]
     },
     "execution_count": 24,
     "metadata": {},
     "output_type": "execute_result"
    }
   ],
   "source": [
    "d=df.groupby('group').agg({'user': 'nunique'})\n",
    "d"
   ]
  },
  {
   "cell_type": "markdown",
   "id": "be31dbb6",
   "metadata": {},
   "source": [
    "Посмотрим на процентное соотношение размеров групп.\n"
   ]
  },
  {
   "cell_type": "code",
   "execution_count": 25,
   "id": "e50216bc",
   "metadata": {},
   "outputs": [
    {
     "data": {
      "text/html": [
       "<div>\n",
       "<style scoped>\n",
       "    .dataframe tbody tr th:only-of-type {\n",
       "        vertical-align: middle;\n",
       "    }\n",
       "\n",
       "    .dataframe tbody tr th {\n",
       "        vertical-align: top;\n",
       "    }\n",
       "\n",
       "    .dataframe thead th {\n",
       "        text-align: right;\n",
       "    }\n",
       "</style>\n",
       "<table border=\"1\" class=\"dataframe\">\n",
       "  <thead>\n",
       "    <tr style=\"text-align: right;\">\n",
       "      <th></th>\n",
       "      <th>user</th>\n",
       "      <th>%</th>\n",
       "    </tr>\n",
       "    <tr>\n",
       "      <th>group</th>\n",
       "      <th></th>\n",
       "      <th></th>\n",
       "    </tr>\n",
       "  </thead>\n",
       "  <tbody>\n",
       "    <tr>\n",
       "      <th>246</th>\n",
       "      <td>2489</td>\n",
       "      <td>32.96</td>\n",
       "    </tr>\n",
       "    <tr>\n",
       "      <th>247</th>\n",
       "      <td>2520</td>\n",
       "      <td>33.37</td>\n",
       "    </tr>\n",
       "    <tr>\n",
       "      <th>248</th>\n",
       "      <td>2542</td>\n",
       "      <td>33.66</td>\n",
       "    </tr>\n",
       "  </tbody>\n",
       "</table>\n",
       "</div>"
      ],
      "text/plain": [
       "       user      %\n",
       "group             \n",
       "246    2489  32.96\n",
       "247    2520  33.37\n",
       "248    2542  33.66"
      ]
     },
     "execution_count": 25,
     "metadata": {},
     "output_type": "execute_result"
    }
   ],
   "source": [
    "d['%']= round((d/df['user'].nunique()*100),2)\n",
    "d"
   ]
  },
  {
   "cell_type": "markdown",
   "id": "f9e9f51d",
   "metadata": {},
   "source": [
    "Размеры групп почти не отличаются друг от друга и находятся в пределах 33%. Статистические критерии разницы между выборками будут рассмотрены ниже.\n"
   ]
  },
  {
   "cell_type": "markdown",
   "id": "5533f1d6",
   "metadata": {},
   "source": [
    "Подготовка данных завершена. Созданы необходимые дополнительные столбцы, изменены, там где необходимо, типы данных, удалены дубликаты. Относительные потери от удаления дубликатов составили 0.17% от общего количества данных. Данные в колонке group по исследуемым группам 246, 247 и 248 не пересекаются между собой. У нас три группы в исследовании, значит тест множественный. Группы примерно равны по размеру. Очень незначительно отличаются друг от друга. Статистические критерии разницы будут рассмотрены ниже. Можно приступать к дальнейшим этапам исследования."
   ]
  },
  {
   "cell_type": "markdown",
   "id": "db1afafa",
   "metadata": {},
   "source": [
    "### Изучение и проверка данных."
   ]
  },
  {
   "cell_type": "markdown",
   "id": "2646206f",
   "metadata": {},
   "source": [
    "Подсчет количества событий в логе."
   ]
  },
  {
   "cell_type": "code",
   "execution_count": 26,
   "id": "86ba5e17",
   "metadata": {},
   "outputs": [
    {
     "data": {
      "text/plain": [
       "MainScreenAppear           119101\n",
       "OffersScreenAppear          46808\n",
       "CartScreenAppear            42668\n",
       "PaymentScreenSuccessful     34118\n",
       "Tutorial                     1018\n",
       "Name: event, dtype: int64"
      ]
     },
     "execution_count": 26,
     "metadata": {},
     "output_type": "execute_result"
    }
   ],
   "source": [
    "df['event'].value_counts()"
   ]
  },
  {
   "cell_type": "code",
   "execution_count": 27,
   "id": "be9be03f",
   "metadata": {},
   "outputs": [
    {
     "data": {
      "text/plain": [
       "5"
      ]
     },
     "execution_count": 27,
     "metadata": {},
     "output_type": "execute_result"
    }
   ],
   "source": [
    "df['event'].nunique()"
   ]
  },
  {
   "cell_type": "code",
   "execution_count": 28,
   "id": "853f8237",
   "metadata": {},
   "outputs": [
    {
     "data": {
      "text/plain": [
       "array(['MainScreenAppear', 'PaymentScreenSuccessful', 'CartScreenAppear',\n",
       "       'OffersScreenAppear', 'Tutorial'], dtype=object)"
      ]
     },
     "execution_count": 28,
     "metadata": {},
     "output_type": "execute_result"
    }
   ],
   "source": [
    "df['event'].unique()"
   ]
  },
  {
   "cell_type": "markdown",
   "id": "e6edf3df",
   "metadata": {},
   "source": [
    "Количество уникальных событий в логе равно 5:\n",
    "1. Мainscreenappear - просмотр главного экрана.\n",
    "2. OffersScreenAppear - просмотр предложений на экране.\n",
    "3. CartScreenAppear - просмотр экрана корзины.\n",
    "4. PaymentScreenSuccessful - просмотр экранов оплаты картой.\n",
    "5. Tutorial - просмотр обучающей части."
   ]
  },
  {
   "cell_type": "markdown",
   "id": "ca867421",
   "metadata": {},
   "source": [
    "Подсчет количества пользователей в логе."
   ]
  },
  {
   "cell_type": "code",
   "execution_count": 29,
   "id": "8f67c2f0",
   "metadata": {},
   "outputs": [
    {
     "name": "stdout",
     "output_type": "stream",
     "text": [
      "Уникальных пользователей в таблице = 7551\n"
     ]
    }
   ],
   "source": [
    "users = df['user'].nunique()\n",
    "print('Уникальных пользователей в таблице =', users)"
   ]
  },
  {
   "cell_type": "markdown",
   "id": "e99b46e5",
   "metadata": {},
   "source": [
    " Подсчет среднего количества событий на пользователя\n"
   ]
  },
  {
   "cell_type": "code",
   "execution_count": 30,
   "id": "96becba3",
   "metadata": {},
   "outputs": [
    {
     "name": "stdout",
     "output_type": "stream",
     "text": [
      "Общее количество событий = 243713\n"
     ]
    }
   ],
   "source": [
    "all_events = df['event'].count()\n",
    "print('Общее количество событий =', all_events)"
   ]
  },
  {
   "cell_type": "code",
   "execution_count": 31,
   "id": "42d8b805",
   "metadata": {},
   "outputs": [
    {
     "name": "stdout",
     "output_type": "stream",
     "text": [
      "Среднее количество событий на пользователя = 32.28\n"
     ]
    }
   ],
   "source": [
    "print(\"Среднее количество событий на пользователя =\", (all_events / users).round(2))"
   ]
  },
  {
   "cell_type": "markdown",
   "id": "07ad42bc",
   "metadata": {},
   "source": [
    "Среднее арифметическое значение количества событий на пользователя равно 32.28, но посмотрим на другие значения. Вдруг есть выбросы, которые влияют на среднее количество и нам нужно будет взять медиану.\n"
   ]
  },
  {
   "cell_type": "code",
   "execution_count": 32,
   "id": "a1f1c1b3",
   "metadata": {},
   "outputs": [
    {
     "data": {
      "text/plain": [
       "count    7551.000000\n",
       "mean       32.275593\n",
       "std        65.154219\n",
       "min         1.000000\n",
       "25%         9.000000\n",
       "50%        20.000000\n",
       "75%        37.000000\n",
       "max      2307.000000\n",
       "Name: event, dtype: float64"
      ]
     },
     "execution_count": 32,
     "metadata": {},
     "output_type": "execute_result"
    }
   ],
   "source": [
    "event_per_user = df.groupby('user')['event'].count()\n",
    "event_per_user.describe()"
   ]
  },
  {
   "cell_type": "code",
   "execution_count": 33,
   "id": "d598f78a",
   "metadata": {},
   "outputs": [
    {
     "data": {
      "image/png": "[encoded data removed]",
      "text/plain": [
       "<Figure size 1500x500 with 1 Axes>"
      ]
     },
     "metadata": {},
     "output_type": "display_data"
    }
   ],
   "source": [
    "plt.figure(figsize=(15,5))\n",
    "plt.hist(event_per_user, bins=100, range=(200,3000)) \n",
    "plt.xlabel('Количество событий')\n",
    "plt.grid()\n",
    "plt.ylabel('Количество пользователей')\n",
    "plt.title('Количество событий на пользователя');"
   ]
  },
  {
   "cell_type": "markdown",
   "id": "67fcdc2d",
   "metadata": {},
   "source": [
    "Максимальное значение количества событий на пользователя равно 2307, а минимальное количество событий на пользователя равно 1, соответственно, разброс значений очень большой и на графике видны редкие выбросы, которые искажают данные в основном сгруппированные в значении до 500, значит необходимо остановиться на медианном значении в 20 событий на пользователя."
   ]
  },
  {
   "cell_type": "markdown",
   "id": "4f43452f",
   "metadata": {},
   "source": [
    "Анализ временного периода предоставленных данных."
   ]
  },
  {
   "cell_type": "code",
   "execution_count": 34,
   "id": "168c4cac",
   "metadata": {},
   "outputs": [
    {
     "name": "stdout",
     "output_type": "stream",
     "text": [
      "Период данных в датасете: с 2019-07-25 04:43:36 по 2019-08-07 21:15:17\n",
      "Размер периода: 13 days 16:31:41\n"
     ]
    }
   ],
   "source": [
    "print(f\"Период данных в датасете: с {df['datetime'].min()} по {df['datetime'].max()}\")\n",
    "print(f\"Размер периода: {df['datetime'].max() - df['datetime'].min()}\")"
   ]
  },
  {
   "cell_type": "code",
   "execution_count": 35,
   "id": "f22c25ef",
   "metadata": {},
   "outputs": [
    {
     "data": {
      "image/png": "[encoded data removed]",
      "text/plain": [
       "<Figure size 1500x400 with 1 Axes>"
      ]
     },
     "metadata": {},
     "output_type": "display_data"
    },
    {
     "data": {
      "image/png": "[encoded data removed]",
      "text/plain": [
       "<Figure size 1500x400 with 1 Axes>"
      ]
     },
     "metadata": {},
     "output_type": "display_data"
    },
    {
     "data": {
      "image/png": "[encoded data removed]",
      "text/plain": [
       "<Figure size 1500x400 with 1 Axes>"
      ]
     },
     "metadata": {},
     "output_type": "display_data"
    },
    {
     "data": {
      "image/png": "[encoded data removed]",
      "text/plain": [
       "<Figure size 1500x400 with 1 Axes>"
      ]
     },
     "metadata": {},
     "output_type": "display_data"
    }
   ],
   "source": [
    "df['dt10m'] = df['datetime'].dt.round('10T')\n",
    "dt10m_event = df.groupby('dt10m')['event'].count().reset_index()\n",
    "\n",
    "lim = (\n",
    "    ['2019-07-24','2019-08-10'],\n",
    "    ['2019-07-31','2019-08-03'],\n",
    "    ['2019-07-31 18:00:00', '2019-08-01 06:00:00'],\n",
    "    ['2019-07-31 20:30:00','2019-07-31 21:30:00']\n",
    ")\n",
    "\n",
    "for period in lim:\n",
    "    dt10m_per = dt10m_event[(dt10m_event['dt10m'] >= period[0]) & (dt10m_event['dt10m'] <= period[1])]\n",
    "    \n",
    "    plt.figure(figsize=(15,4))\n",
    "    seaborn.lineplot(dt10m_per['dt10m'], dt10m_per['event'])\n",
    "    plt.xlabel('Даты')\n",
    "    plt.grid()\n",
    "    plt.ylabel('События')\n",
    "    plt.title('Количество событий по времени');\n",
    "    plt.show();\n",
    "\n",
    "\n"
   ]
  },
  {
   "cell_type": "markdown",
   "id": "ee08575b",
   "metadata": {},
   "source": [
    "Анализ графиков показывает наличие данных с 01.08. по 07.08.2019 года. Данные с 25.07. по 31.07. выглядят совсем не полными, они не будут использоваться при дальнейшем исследовании. Графики временного распределения активности за 31 июля и 1 августа позволяют выявить границы исследования: 21:00 31 августа. Данные за более ранний период не будут использоваться в исследовании."
   ]
  },
  {
   "cell_type": "markdown",
   "id": "87abf1bf",
   "metadata": {},
   "source": [
    "Отброс неподходящих данных по времени."
   ]
  },
  {
   "cell_type": "code",
   "execution_count": 36,
   "id": "84178340",
   "metadata": {},
   "outputs": [
    {
     "data": {
      "text/html": [
       "<div>\n",
       "<style scoped>\n",
       "    .dataframe tbody tr th:only-of-type {\n",
       "        vertical-align: middle;\n",
       "    }\n",
       "\n",
       "    .dataframe tbody tr th {\n",
       "        vertical-align: top;\n",
       "    }\n",
       "\n",
       "    .dataframe thead th {\n",
       "        text-align: right;\n",
       "    }\n",
       "</style>\n",
       "<table border=\"1\" class=\"dataframe\">\n",
       "  <thead>\n",
       "    <tr style=\"text-align: right;\">\n",
       "      <th></th>\n",
       "      <th>event</th>\n",
       "      <th>user</th>\n",
       "      <th>timestamp</th>\n",
       "      <th>group</th>\n",
       "      <th>datetime</th>\n",
       "      <th>date</th>\n",
       "      <th>dt10m</th>\n",
       "    </tr>\n",
       "  </thead>\n",
       "  <tbody>\n",
       "    <tr>\n",
       "      <th>0</th>\n",
       "      <td>MainScreenAppear</td>\n",
       "      <td>7701922487875823903</td>\n",
       "      <td>2019-07-31 21:00:57</td>\n",
       "      <td>247</td>\n",
       "      <td>2019-07-31 21:00:57</td>\n",
       "      <td>2019-07-31</td>\n",
       "      <td>2019-07-31 21:00:00</td>\n",
       "    </tr>\n",
       "    <tr>\n",
       "      <th>1</th>\n",
       "      <td>MainScreenAppear</td>\n",
       "      <td>2539077412200498909</td>\n",
       "      <td>2019-07-31 21:01:45</td>\n",
       "      <td>247</td>\n",
       "      <td>2019-07-31 21:01:45</td>\n",
       "      <td>2019-07-31</td>\n",
       "      <td>2019-07-31 21:00:00</td>\n",
       "    </tr>\n",
       "    <tr>\n",
       "      <th>2</th>\n",
       "      <td>OffersScreenAppear</td>\n",
       "      <td>3286987355161301427</td>\n",
       "      <td>2019-07-31 21:02:21</td>\n",
       "      <td>248</td>\n",
       "      <td>2019-07-31 21:02:21</td>\n",
       "      <td>2019-07-31</td>\n",
       "      <td>2019-07-31 21:00:00</td>\n",
       "    </tr>\n",
       "    <tr>\n",
       "      <th>3</th>\n",
       "      <td>OffersScreenAppear</td>\n",
       "      <td>3187166762535343300</td>\n",
       "      <td>2019-07-31 21:02:23</td>\n",
       "      <td>247</td>\n",
       "      <td>2019-07-31 21:02:23</td>\n",
       "      <td>2019-07-31</td>\n",
       "      <td>2019-07-31 21:00:00</td>\n",
       "    </tr>\n",
       "    <tr>\n",
       "      <th>4</th>\n",
       "      <td>MainScreenAppear</td>\n",
       "      <td>1118952406011435924</td>\n",
       "      <td>2019-07-31 21:03:25</td>\n",
       "      <td>248</td>\n",
       "      <td>2019-07-31 21:03:25</td>\n",
       "      <td>2019-07-31</td>\n",
       "      <td>2019-07-31 21:00:00</td>\n",
       "    </tr>\n",
       "    <tr>\n",
       "      <th>...</th>\n",
       "      <td>...</td>\n",
       "      <td>...</td>\n",
       "      <td>...</td>\n",
       "      <td>...</td>\n",
       "      <td>...</td>\n",
       "      <td>...</td>\n",
       "      <td>...</td>\n",
       "    </tr>\n",
       "    <tr>\n",
       "      <th>241719</th>\n",
       "      <td>MainScreenAppear</td>\n",
       "      <td>4599628364049201812</td>\n",
       "      <td>2019-08-07 21:12:25</td>\n",
       "      <td>247</td>\n",
       "      <td>2019-08-07 21:12:25</td>\n",
       "      <td>2019-08-07</td>\n",
       "      <td>2019-08-07 21:10:00</td>\n",
       "    </tr>\n",
       "    <tr>\n",
       "      <th>241720</th>\n",
       "      <td>MainScreenAppear</td>\n",
       "      <td>5849806612437486590</td>\n",
       "      <td>2019-08-07 21:13:59</td>\n",
       "      <td>246</td>\n",
       "      <td>2019-08-07 21:13:59</td>\n",
       "      <td>2019-08-07</td>\n",
       "      <td>2019-08-07 21:10:00</td>\n",
       "    </tr>\n",
       "    <tr>\n",
       "      <th>241721</th>\n",
       "      <td>MainScreenAppear</td>\n",
       "      <td>5746969938801999050</td>\n",
       "      <td>2019-08-07 21:14:43</td>\n",
       "      <td>246</td>\n",
       "      <td>2019-08-07 21:14:43</td>\n",
       "      <td>2019-08-07</td>\n",
       "      <td>2019-08-07 21:10:00</td>\n",
       "    </tr>\n",
       "    <tr>\n",
       "      <th>241722</th>\n",
       "      <td>MainScreenAppear</td>\n",
       "      <td>5746969938801999050</td>\n",
       "      <td>2019-08-07 21:14:58</td>\n",
       "      <td>246</td>\n",
       "      <td>2019-08-07 21:14:58</td>\n",
       "      <td>2019-08-07</td>\n",
       "      <td>2019-08-07 21:10:00</td>\n",
       "    </tr>\n",
       "    <tr>\n",
       "      <th>241723</th>\n",
       "      <td>OffersScreenAppear</td>\n",
       "      <td>5746969938801999050</td>\n",
       "      <td>2019-08-07 21:15:17</td>\n",
       "      <td>246</td>\n",
       "      <td>2019-08-07 21:15:17</td>\n",
       "      <td>2019-08-07</td>\n",
       "      <td>2019-08-07 21:20:00</td>\n",
       "    </tr>\n",
       "  </tbody>\n",
       "</table>\n",
       "<p>241724 rows × 7 columns</p>\n",
       "</div>"
      ],
      "text/plain": [
       "                     event                 user           timestamp  group  \\\n",
       "0         MainScreenAppear  7701922487875823903 2019-07-31 21:00:57    247   \n",
       "1         MainScreenAppear  2539077412200498909 2019-07-31 21:01:45    247   \n",
       "2       OffersScreenAppear  3286987355161301427 2019-07-31 21:02:21    248   \n",
       "3       OffersScreenAppear  3187166762535343300 2019-07-31 21:02:23    247   \n",
       "4         MainScreenAppear  1118952406011435924 2019-07-31 21:03:25    248   \n",
       "...                    ...                  ...                 ...    ...   \n",
       "241719    MainScreenAppear  4599628364049201812 2019-08-07 21:12:25    247   \n",
       "241720    MainScreenAppear  5849806612437486590 2019-08-07 21:13:59    246   \n",
       "241721    MainScreenAppear  5746969938801999050 2019-08-07 21:14:43    246   \n",
       "241722    MainScreenAppear  5746969938801999050 2019-08-07 21:14:58    246   \n",
       "241723  OffersScreenAppear  5746969938801999050 2019-08-07 21:15:17    246   \n",
       "\n",
       "                  datetime       date               dt10m  \n",
       "0      2019-07-31 21:00:57 2019-07-31 2019-07-31 21:00:00  \n",
       "1      2019-07-31 21:01:45 2019-07-31 2019-07-31 21:00:00  \n",
       "2      2019-07-31 21:02:21 2019-07-31 2019-07-31 21:00:00  \n",
       "3      2019-07-31 21:02:23 2019-07-31 2019-07-31 21:00:00  \n",
       "4      2019-07-31 21:03:25 2019-07-31 2019-07-31 21:00:00  \n",
       "...                    ...        ...                 ...  \n",
       "241719 2019-08-07 21:12:25 2019-08-07 2019-08-07 21:10:00  \n",
       "241720 2019-08-07 21:13:59 2019-08-07 2019-08-07 21:10:00  \n",
       "241721 2019-08-07 21:14:43 2019-08-07 2019-08-07 21:10:00  \n",
       "241722 2019-08-07 21:14:58 2019-08-07 2019-08-07 21:10:00  \n",
       "241723 2019-08-07 21:15:17 2019-08-07 2019-08-07 21:20:00  \n",
       "\n",
       "[241724 rows x 7 columns]"
      ]
     },
     "execution_count": 36,
     "metadata": {},
     "output_type": "execute_result"
    }
   ],
   "source": [
    "df = df[df['datetime'] > '2019-07-31 21:00:00'].reset_index(drop=True)\n",
    "df.sort_values(by='datetime')"
   ]
  },
  {
   "cell_type": "markdown",
   "id": "7a85b3f6",
   "metadata": {},
   "source": [
    "Оценка потери при отсечении данных."
   ]
  },
  {
   "cell_type": "code",
   "execution_count": 37,
   "id": "3a0af458",
   "metadata": {},
   "outputs": [
    {
     "name": "stdout",
     "output_type": "stream",
     "text": [
      "Количество уникальных пользователей после удаления = 7538\n",
      "Разница с первоначальными данными = 13\n"
     ]
    }
   ],
   "source": [
    "users_new = df['user'].nunique()\n",
    "print('Количество уникальных пользователей после удаления =', users_new)\n",
    "print('Разница с первоначальными данными =', users - users_new)\n"
   ]
  },
  {
   "cell_type": "code",
   "execution_count": 38,
   "id": "9c6f1dde",
   "metadata": {},
   "outputs": [
    {
     "name": "stdout",
     "output_type": "stream",
     "text": [
      "Процент потери данных пользователей= 0.172\n"
     ]
    }
   ],
   "source": [
    "print('Процент потери данных пользователей=', round(((users - users_new)/users)*100, 3))"
   ]
  },
  {
   "cell_type": "code",
   "execution_count": 39,
   "id": "b68a1a70",
   "metadata": {},
   "outputs": [
    {
     "name": "stdout",
     "output_type": "stream",
     "text": [
      "Количество  событий после удаления = 241724\n",
      "Разница с первоначальными данными = 1989\n"
     ]
    }
   ],
   "source": [
    "event_new =df['event'].count()\n",
    "print('Количество  событий после удаления =', event_new)\n",
    "print('Разница с первоначальными данными =', all_events  - event_new)"
   ]
  },
  {
   "cell_type": "code",
   "execution_count": 40,
   "id": "b20c6c41",
   "metadata": {},
   "outputs": [
    {
     "name": "stdout",
     "output_type": "stream",
     "text": [
      "Процент потери данных событий= 0.816\n"
     ]
    }
   ],
   "source": [
    "print('Процент потери данных событий=', round(((all_events - event_new)/all_events)*100, 3))\n"
   ]
  },
  {
   "cell_type": "markdown",
   "id": "8c999727",
   "metadata": {},
   "source": [
    "Потеря данных по пользователям составила 13 шт., 0.17% от общего количества данных. Потеря данных по событиям составила 1989 шт., 0.8% от общего количества данных. Такие потери могут считаться очень маленькими и их необходимо отбросить, чтобы получить качественное исследование."
   ]
  },
  {
   "cell_type": "markdown",
   "id": "ae5ff2ab",
   "metadata": {},
   "source": [
    "Проверим наличие пользователей из всех трёх экспериментальных групп после удаления данных.\n"
   ]
  },
  {
   "cell_type": "code",
   "execution_count": 41,
   "id": "f1ddd2a3",
   "metadata": {},
   "outputs": [
    {
     "data": {
      "text/html": [
       "<div>\n",
       "<style scoped>\n",
       "    .dataframe tbody tr th:only-of-type {\n",
       "        vertical-align: middle;\n",
       "    }\n",
       "\n",
       "    .dataframe tbody tr th {\n",
       "        vertical-align: top;\n",
       "    }\n",
       "\n",
       "    .dataframe thead th {\n",
       "        text-align: right;\n",
       "    }\n",
       "</style>\n",
       "<table border=\"1\" class=\"dataframe\">\n",
       "  <thead>\n",
       "    <tr style=\"text-align: right;\">\n",
       "      <th></th>\n",
       "      <th>user</th>\n",
       "      <th>%</th>\n",
       "    </tr>\n",
       "    <tr>\n",
       "      <th>group</th>\n",
       "      <th></th>\n",
       "      <th></th>\n",
       "    </tr>\n",
       "  </thead>\n",
       "  <tbody>\n",
       "    <tr>\n",
       "      <th>246</th>\n",
       "      <td>2484</td>\n",
       "      <td>32.95</td>\n",
       "    </tr>\n",
       "    <tr>\n",
       "      <th>247</th>\n",
       "      <td>2517</td>\n",
       "      <td>33.39</td>\n",
       "    </tr>\n",
       "    <tr>\n",
       "      <th>248</th>\n",
       "      <td>2537</td>\n",
       "      <td>33.66</td>\n",
       "    </tr>\n",
       "  </tbody>\n",
       "</table>\n",
       "</div>"
      ],
      "text/plain": [
       "       user      %\n",
       "group             \n",
       "246    2484  32.95\n",
       "247    2517  33.39\n",
       "248    2537  33.66"
      ]
     },
     "execution_count": 41,
     "metadata": {},
     "output_type": "execute_result"
    }
   ],
   "source": [
    "p=df.groupby('group').agg({'user': 'nunique'})\n",
    "p['%']= round((p/df['user'].nunique()*100),2)\n",
    "p"
   ]
  },
  {
   "cell_type": "markdown",
   "id": "7f062924",
   "metadata": {},
   "source": [
    "Изменение количества пользователей на 13 шт. практически не изменило картины разделения пользователей на группы.\n"
   ]
  },
  {
   "cell_type": "markdown",
   "id": "fd6ba35d",
   "metadata": {},
   "source": [
    "В процессе изучения данных было подсчитано, что количество уникальных событий в логе равно 5, подсчитано их количество, подсчитано количество уникальных пользователей (7551 чел.), подсчитано медианное значение в 20 событий на пользователя. Определены временные границы исследования по активности пользователей. Отброшены данные, которые не удовлетворяют критериям полноты и качества исследования, оценены потери в абсолютном и относительном выражении. Можно приступать к дальнейшим исследованиям."
   ]
  },
  {
   "cell_type": "markdown",
   "id": "82f7b249",
   "metadata": {},
   "source": [
    "### Изучение воронки событий."
   ]
  },
  {
   "cell_type": "markdown",
   "id": "a764b2b2",
   "metadata": {},
   "source": [
    "Анализ видов событий и их частоты."
   ]
  },
  {
   "cell_type": "markdown",
   "id": "7a187fb2",
   "metadata": {},
   "source": [
    "События отсортированы по частоте.\n"
   ]
  },
  {
   "cell_type": "code",
   "execution_count": 42,
   "id": "6335a2f5",
   "metadata": {},
   "outputs": [
    {
     "data": {
      "text/html": [
       "<div>\n",
       "<style scoped>\n",
       "    .dataframe tbody tr th:only-of-type {\n",
       "        vertical-align: middle;\n",
       "    }\n",
       "\n",
       "    .dataframe tbody tr th {\n",
       "        vertical-align: top;\n",
       "    }\n",
       "\n",
       "    .dataframe thead th {\n",
       "        text-align: right;\n",
       "    }\n",
       "</style>\n",
       "<table border=\"1\" class=\"dataframe\">\n",
       "  <thead>\n",
       "    <tr style=\"text-align: right;\">\n",
       "      <th></th>\n",
       "      <th>event</th>\n",
       "      <th>count</th>\n",
       "      <th>nunique</th>\n",
       "    </tr>\n",
       "  </thead>\n",
       "  <tbody>\n",
       "    <tr>\n",
       "      <th>0</th>\n",
       "      <td>MainScreenAppear</td>\n",
       "      <td>117889</td>\n",
       "      <td>7423</td>\n",
       "    </tr>\n",
       "    <tr>\n",
       "      <th>1</th>\n",
       "      <td>OffersScreenAppear</td>\n",
       "      <td>46531</td>\n",
       "      <td>4597</td>\n",
       "    </tr>\n",
       "    <tr>\n",
       "      <th>2</th>\n",
       "      <td>CartScreenAppear</td>\n",
       "      <td>42343</td>\n",
       "      <td>3736</td>\n",
       "    </tr>\n",
       "    <tr>\n",
       "      <th>3</th>\n",
       "      <td>PaymentScreenSuccessful</td>\n",
       "      <td>33951</td>\n",
       "      <td>3540</td>\n",
       "    </tr>\n",
       "    <tr>\n",
       "      <th>4</th>\n",
       "      <td>Tutorial</td>\n",
       "      <td>1010</td>\n",
       "      <td>843</td>\n",
       "    </tr>\n",
       "  </tbody>\n",
       "</table>\n",
       "</div>"
      ],
      "text/plain": [
       "                     event   count  nunique\n",
       "0         MainScreenAppear  117889     7423\n",
       "1       OffersScreenAppear   46531     4597\n",
       "2         CartScreenAppear   42343     3736\n",
       "3  PaymentScreenSuccessful   33951     3540\n",
       "4                 Tutorial    1010      843"
      ]
     },
     "execution_count": 42,
     "metadata": {},
     "output_type": "execute_result"
    }
   ],
   "source": [
    "events = df.groupby('event')['user'].agg(['count', 'nunique']).sort_values(by ='count', ascending= False).reset_index()\n",
    "events"
   ]
  },
  {
   "cell_type": "markdown",
   "id": "3ff27928",
   "metadata": {},
   "source": [
    "Количество уникальных событий в логе равно 5:\n",
    "1. Мainscreenappear - просмотр главного экрана.\n",
    "2. OffersScreenAppear - просмотр предложений на экране.\n",
    "3. CartScreenAppear - просмотр экрана корзины.\n",
    "4. PaymentScreenSuccessful - просмотр экранов оплаты картой.\n",
    "5. Tutorial - просмотр обучающей части."
   ]
  },
  {
   "cell_type": "code",
   "execution_count": 43,
   "id": "093480bf",
   "metadata": {},
   "outputs": [
    {
     "data": {
      "image/png": "[encoded data removed]",
      "text/plain": [
       "<Figure size 1400x700 with 1 Axes>"
      ]
     },
     "metadata": {},
     "output_type": "display_data"
    }
   ],
   "source": [
    "events.columns =['event_name', 'n_events', 'n_users']\n",
    "n_users = {'all': df['user'].nunique(), \n",
    "           246: df[df['group']==246]['user'].nunique(),\n",
    "           247: df[df['group']==247]['user'].nunique(),\n",
    "           248: df[df['group']==248]['user'].nunique(),\n",
    "           '246+247': df[(df['group']==246) | (df['group']==247)]['user'].nunique()}\n",
    "plt.figure(figsize=(14, 7))\n",
    "\n",
    "order = events.sort_values('n_events', ascending=False).reset_index(drop=True)['event_name']\n",
    "ax = seaborn.barplot(y='event_name', x='n_events', order = order,  data=events)\n",
    "ax.set (xlabel='Количество событий', ylabel='Наименование событий')\n",
    "ax.set_title('Количество событий');"
   ]
  },
  {
   "cell_type": "markdown",
   "id": "35694928",
   "metadata": {},
   "source": [
    "Самым популярным событием является просмотр главного экрана (почти 49%). Далее пользователи просматривают предложения на своем экране (19.2%). Третий по популярности просмотр экрана корзины (17.5%). 14% оплачивают свои покупки, просматривая страницы оплаты. Самый непопулярный раздел сайта - обучающий. В него заглядывают лишь 0.4% пользователей."
   ]
  },
  {
   "cell_type": "code",
   "execution_count": 44,
   "id": "d4b5fdeb",
   "metadata": {},
   "outputs": [],
   "source": [
    "event_pivot=df.pivot_table(index=['event','group'], values='user', aggfunc=['count', 'nunique']).reset_index()"
   ]
  },
  {
   "cell_type": "code",
   "execution_count": 45,
   "id": "031fd810",
   "metadata": {},
   "outputs": [
    {
     "data": {
      "image/png": "[encoded data removed]",
      "text/plain": [
       "<Figure size 1500x800 with 1 Axes>"
      ]
     },
     "metadata": {},
     "output_type": "display_data"
    }
   ],
   "source": [
    "event_pivot.columns= ['event_name','group', 'n_events', 'n_users']\n",
    "\n",
    "plt.figure(figsize=(15, 8))\n",
    "ax = seaborn.barplot(y='event_name', x='n_events', order = order, hue='group', data=event_pivot)\n",
    "ax.set_title('Количество событий в разрезе групп')\n",
    "ax.set (xlabel='Количество событий с разделением на группы', ylabel='Наименование событий');"
   ]
  },
  {
   "cell_type": "markdown",
   "id": "19d9f839",
   "metadata": {},
   "source": [
    "График количества событий в разрезе групп показал общую картину, схожую с графиком без разделения по группам, но детали показывают, что группа 248 лидирует по всем наименованиям событий, их количество больше. Соответственно, в ходе исследования нужно будет внимательно посмотреть на критерии статистической значимости.\n"
   ]
  },
  {
   "cell_type": "markdown",
   "id": "629e7e14",
   "metadata": {},
   "source": [
    "Подсчет пользователей, совершивших события."
   ]
  },
  {
   "cell_type": "code",
   "execution_count": 46,
   "id": "30bbd254",
   "metadata": {},
   "outputs": [
    {
     "data": {
      "text/html": [
       "<div>\n",
       "<style scoped>\n",
       "    .dataframe tbody tr th:only-of-type {\n",
       "        vertical-align: middle;\n",
       "    }\n",
       "\n",
       "    .dataframe tbody tr th {\n",
       "        vertical-align: top;\n",
       "    }\n",
       "\n",
       "    .dataframe thead th {\n",
       "        text-align: right;\n",
       "    }\n",
       "</style>\n",
       "<table border=\"1\" class=\"dataframe\">\n",
       "  <thead>\n",
       "    <tr style=\"text-align: right;\">\n",
       "      <th></th>\n",
       "      <th>event</th>\n",
       "      <th>n_events</th>\n",
       "      <th>users</th>\n",
       "      <th>users_1event</th>\n",
       "    </tr>\n",
       "  </thead>\n",
       "  <tbody>\n",
       "    <tr>\n",
       "      <th>0</th>\n",
       "      <td>MainScreenAppear</td>\n",
       "      <td>117889</td>\n",
       "      <td>7423</td>\n",
       "      <td>98.5</td>\n",
       "    </tr>\n",
       "    <tr>\n",
       "      <th>1</th>\n",
       "      <td>OffersScreenAppear</td>\n",
       "      <td>46531</td>\n",
       "      <td>4597</td>\n",
       "      <td>61.0</td>\n",
       "    </tr>\n",
       "    <tr>\n",
       "      <th>2</th>\n",
       "      <td>CartScreenAppear</td>\n",
       "      <td>42343</td>\n",
       "      <td>3736</td>\n",
       "      <td>49.6</td>\n",
       "    </tr>\n",
       "    <tr>\n",
       "      <th>3</th>\n",
       "      <td>PaymentScreenSuccessful</td>\n",
       "      <td>33951</td>\n",
       "      <td>3540</td>\n",
       "      <td>47.0</td>\n",
       "    </tr>\n",
       "    <tr>\n",
       "      <th>4</th>\n",
       "      <td>Tutorial</td>\n",
       "      <td>1010</td>\n",
       "      <td>843</td>\n",
       "      <td>11.2</td>\n",
       "    </tr>\n",
       "  </tbody>\n",
       "</table>\n",
       "</div>"
      ],
      "text/plain": [
       "                     event  n_events  users  users_1event\n",
       "0         MainScreenAppear    117889   7423          98.5\n",
       "1       OffersScreenAppear     46531   4597          61.0\n",
       "2         CartScreenAppear     42343   3736          49.6\n",
       "3  PaymentScreenSuccessful     33951   3540          47.0\n",
       "4                 Tutorial      1010    843          11.2"
      ]
     },
     "execution_count": 46,
     "metadata": {},
     "output_type": "execute_result"
    }
   ],
   "source": [
    "events_users = df.groupby('event').agg({'event':'count', 'user':'nunique'}).sort_values(by='user', ascending=False)\n",
    "events_users.columns = ['n_events', 'users'] #\"n_events\" - кол-во событий, \"users\" - кол-во пользователей\n",
    "events_users = events_users.reset_index()\n",
    "events_users['users_1event'] = (events_users['users'] / users_new * 100).round(1) # доля совершивших событие хотя бы 1 событие\n",
    "events_users"
   ]
  },
  {
   "cell_type": "markdown",
   "id": "c94e9c3b",
   "metadata": {},
   "source": [
    "Посмотрим на данные в разрезе групп.\n"
   ]
  },
  {
   "cell_type": "code",
   "execution_count": 47,
   "id": "3556d52f",
   "metadata": {},
   "outputs": [
    {
     "data": {
      "text/html": [
       "<div>\n",
       "<style scoped>\n",
       "    .dataframe tbody tr th:only-of-type {\n",
       "        vertical-align: middle;\n",
       "    }\n",
       "\n",
       "    .dataframe tbody tr th {\n",
       "        vertical-align: top;\n",
       "    }\n",
       "\n",
       "    .dataframe thead th {\n",
       "        text-align: right;\n",
       "    }\n",
       "</style>\n",
       "<table border=\"1\" class=\"dataframe\">\n",
       "  <thead>\n",
       "    <tr style=\"text-align: right;\">\n",
       "      <th></th>\n",
       "      <th>event</th>\n",
       "      <th>group</th>\n",
       "      <th>n_events</th>\n",
       "      <th>users</th>\n",
       "      <th>users_1event</th>\n",
       "    </tr>\n",
       "  </thead>\n",
       "  <tbody>\n",
       "    <tr>\n",
       "      <th>0</th>\n",
       "      <td>MainScreenAppear</td>\n",
       "      <td>248</td>\n",
       "      <td>40740</td>\n",
       "      <td>2494</td>\n",
       "      <td>98.31</td>\n",
       "    </tr>\n",
       "    <tr>\n",
       "      <th>1</th>\n",
       "      <td>OffersScreenAppear</td>\n",
       "      <td>248</td>\n",
       "      <td>16465</td>\n",
       "      <td>1531</td>\n",
       "      <td>60.35</td>\n",
       "    </tr>\n",
       "    <tr>\n",
       "      <th>2</th>\n",
       "      <td>CartScreenAppear</td>\n",
       "      <td>248</td>\n",
       "      <td>15207</td>\n",
       "      <td>1231</td>\n",
       "      <td>48.52</td>\n",
       "    </tr>\n",
       "    <tr>\n",
       "      <th>3</th>\n",
       "      <td>PaymentScreenSuccessful</td>\n",
       "      <td>248</td>\n",
       "      <td>12110</td>\n",
       "      <td>1182</td>\n",
       "      <td>46.59</td>\n",
       "    </tr>\n",
       "    <tr>\n",
       "      <th>4</th>\n",
       "      <td>Tutorial</td>\n",
       "      <td>248</td>\n",
       "      <td>353</td>\n",
       "      <td>281</td>\n",
       "      <td>11.08</td>\n",
       "    </tr>\n",
       "    <tr>\n",
       "      <th>5</th>\n",
       "      <td>MainScreenAppear</td>\n",
       "      <td>247</td>\n",
       "      <td>39294</td>\n",
       "      <td>2479</td>\n",
       "      <td>98.49</td>\n",
       "    </tr>\n",
       "    <tr>\n",
       "      <th>6</th>\n",
       "      <td>OffersScreenAppear</td>\n",
       "      <td>247</td>\n",
       "      <td>15237</td>\n",
       "      <td>1524</td>\n",
       "      <td>60.55</td>\n",
       "    </tr>\n",
       "    <tr>\n",
       "      <th>7</th>\n",
       "      <td>CartScreenAppear</td>\n",
       "      <td>247</td>\n",
       "      <td>12439</td>\n",
       "      <td>1239</td>\n",
       "      <td>49.23</td>\n",
       "    </tr>\n",
       "    <tr>\n",
       "      <th>8</th>\n",
       "      <td>PaymentScreenSuccessful</td>\n",
       "      <td>247</td>\n",
       "      <td>9983</td>\n",
       "      <td>1158</td>\n",
       "      <td>46.01</td>\n",
       "    </tr>\n",
       "    <tr>\n",
       "      <th>9</th>\n",
       "      <td>Tutorial</td>\n",
       "      <td>247</td>\n",
       "      <td>340</td>\n",
       "      <td>284</td>\n",
       "      <td>11.28</td>\n",
       "    </tr>\n",
       "    <tr>\n",
       "      <th>10</th>\n",
       "      <td>MainScreenAppear</td>\n",
       "      <td>246</td>\n",
       "      <td>37855</td>\n",
       "      <td>2450</td>\n",
       "      <td>98.63</td>\n",
       "    </tr>\n",
       "    <tr>\n",
       "      <th>11</th>\n",
       "      <td>OffersScreenAppear</td>\n",
       "      <td>246</td>\n",
       "      <td>14829</td>\n",
       "      <td>1542</td>\n",
       "      <td>62.08</td>\n",
       "    </tr>\n",
       "    <tr>\n",
       "      <th>12</th>\n",
       "      <td>CartScreenAppear</td>\n",
       "      <td>246</td>\n",
       "      <td>14697</td>\n",
       "      <td>1266</td>\n",
       "      <td>50.97</td>\n",
       "    </tr>\n",
       "    <tr>\n",
       "      <th>13</th>\n",
       "      <td>PaymentScreenSuccessful</td>\n",
       "      <td>246</td>\n",
       "      <td>11858</td>\n",
       "      <td>1200</td>\n",
       "      <td>48.31</td>\n",
       "    </tr>\n",
       "    <tr>\n",
       "      <th>14</th>\n",
       "      <td>Tutorial</td>\n",
       "      <td>246</td>\n",
       "      <td>317</td>\n",
       "      <td>278</td>\n",
       "      <td>11.19</td>\n",
       "    </tr>\n",
       "  </tbody>\n",
       "</table>\n",
       "</div>"
      ],
      "text/plain": [
       "                      event  group  n_events  users  users_1event\n",
       "0          MainScreenAppear    248     40740   2494         98.31\n",
       "1        OffersScreenAppear    248     16465   1531         60.35\n",
       "2          CartScreenAppear    248     15207   1231         48.52\n",
       "3   PaymentScreenSuccessful    248     12110   1182         46.59\n",
       "4                  Tutorial    248       353    281         11.08\n",
       "5          MainScreenAppear    247     39294   2479         98.49\n",
       "6        OffersScreenAppear    247     15237   1524         60.55\n",
       "7          CartScreenAppear    247     12439   1239         49.23\n",
       "8   PaymentScreenSuccessful    247      9983   1158         46.01\n",
       "9                  Tutorial    247       340    284         11.28\n",
       "10         MainScreenAppear    246     37855   2450         98.63\n",
       "11       OffersScreenAppear    246     14829   1542         62.08\n",
       "12         CartScreenAppear    246     14697   1266         50.97\n",
       "13  PaymentScreenSuccessful    246     11858   1200         48.31\n",
       "14                 Tutorial    246       317    278         11.19"
      ]
     },
     "execution_count": 47,
     "metadata": {},
     "output_type": "execute_result"
    }
   ],
   "source": [
    "events_users_bygroup = df.groupby(['event','group']).agg({'event':'count', 'user':'nunique'})\n",
    "events_users_bygroup.columns = ['n_events', 'users']\n",
    "events_users_bygroup = events_users_bygroup.reset_index()\n",
    "\n",
    "users_246 = df[df['group']==246]['user'].nunique()\n",
    "users_247= df[df['group']==247]['user'].nunique()\n",
    "users_248= df[df['group']==248]['user'].nunique()\n",
    "\n",
    "def users_part_group(row):\n",
    "    if row['group']==246:\n",
    "        return (row['users'] / users_246 * 100)\n",
    "    elif row['group']==247:\n",
    "        return (row['users'] / users_247 * 100)\n",
    "    elif row['group']==248:\n",
    "        return (row['users'] / users_248 * 100)\n",
    "    else:\n",
    "        print ('Ошибка')\n",
    "\n",
    "events_users_bygroup['users_1event'] = events_users_bygroup.apply(users_part_group, axis=1)\n",
    "events_users_bygroup['users_1event'] = events_users_bygroup['users_1event'].round (2)\n",
    "events_users_bygroup.sort_values(by=['group','users'], ascending=False).reset_index(drop=True)"
   ]
  },
  {
   "cell_type": "code",
   "execution_count": 48,
   "id": "4d54174e",
   "metadata": {},
   "outputs": [
    {
     "data": {
      "image/png": "[encoded data removed]",
      "text/plain": [
       "<Figure size 1276.62x600 with 1 Axes>"
      ]
     },
     "metadata": {},
     "output_type": "display_data"
    }
   ],
   "source": [
    "seaborn.catplot(y=\"event\", x=\"users_1event\",\n",
    "                hue=\"group\", order=order, \n",
    "                data=events_users_bygroup, kind=\"bar\",\n",
    "                height=6, aspect=2.0)\n",
    "plt.ylabel('Наименование событий')\n",
    "plt.xlabel('Доли, %')\n",
    "plt.title('Доли пользователей, совершивших хотя бы одно событие, от всех пользователей по группам');\n",
    "\n"
   ]
  },
  {
   "cell_type": "markdown",
   "id": "1b55c716",
   "metadata": {},
   "source": [
    "График разделения доли пользователей, совершивших хотя бы одно событие, разделенный по группам показывает равномерность, резкие скачки внутри групп отсутствуют."
   ]
  },
  {
   "cell_type": "markdown",
   "id": "10616d61",
   "metadata": {},
   "source": [
    "Анализ порядка событий."
   ]
  },
  {
   "cell_type": "markdown",
   "id": "39a33c5b",
   "metadata": {},
   "source": [
    "Вырисовывается следующий порядок поведения пользователей мобильного приложения при заказе продуктов питания: \n",
    "\n",
    "1. MainScreenAppear - Появление Главного экрана - Пользователь зашел на сайт\n",
    "2. OffersScreenAppear - Появление Экрана Предложений - Пользователь просматривал страницы предложений.\n",
    "3. CartScreenAppear - Появление Экрана Корзины - Пользователь добавил товар в корзину\n",
    "4. PaymentScreenSuccessful - Экран Оплаты картой - Пользователи оплатили покупки из корзины.\n",
    "\n",
    "Tutorial - Руководство пользователя - Изучение инструкции.  Изучение инструкции самое непопулярное место в мобильном приложении. Количество этих событий от общего количества событий составляет 0.4%. \n"
   ]
  },
  {
   "cell_type": "code",
   "execution_count": 49,
   "id": "d5c4eae2",
   "metadata": {},
   "outputs": [
    {
     "data": {
      "text/html": [
       "<div>\n",
       "<style scoped>\n",
       "    .dataframe tbody tr th:only-of-type {\n",
       "        vertical-align: middle;\n",
       "    }\n",
       "\n",
       "    .dataframe tbody tr th {\n",
       "        vertical-align: top;\n",
       "    }\n",
       "\n",
       "    .dataframe thead th {\n",
       "        text-align: right;\n",
       "    }\n",
       "</style>\n",
       "<table border=\"1\" class=\"dataframe\">\n",
       "  <thead>\n",
       "    <tr style=\"text-align: right;\">\n",
       "      <th></th>\n",
       "      <th>event</th>\n",
       "      <th>users</th>\n",
       "      <th>relation_to_the_previous</th>\n",
       "    </tr>\n",
       "  </thead>\n",
       "  <tbody>\n",
       "    <tr>\n",
       "      <th>0</th>\n",
       "      <td>MainScreenAppear</td>\n",
       "      <td>7423</td>\n",
       "      <td>100.0</td>\n",
       "    </tr>\n",
       "    <tr>\n",
       "      <th>1</th>\n",
       "      <td>OffersScreenAppear</td>\n",
       "      <td>4597</td>\n",
       "      <td>61.9</td>\n",
       "    </tr>\n",
       "    <tr>\n",
       "      <th>2</th>\n",
       "      <td>CartScreenAppear</td>\n",
       "      <td>3736</td>\n",
       "      <td>81.3</td>\n",
       "    </tr>\n",
       "    <tr>\n",
       "      <th>3</th>\n",
       "      <td>PaymentScreenSuccessful</td>\n",
       "      <td>3540</td>\n",
       "      <td>94.8</td>\n",
       "    </tr>\n",
       "    <tr>\n",
       "      <th>4</th>\n",
       "      <td>Tutorial</td>\n",
       "      <td>843</td>\n",
       "      <td>23.8</td>\n",
       "    </tr>\n",
       "  </tbody>\n",
       "</table>\n",
       "</div>"
      ],
      "text/plain": [
       "                     event  users  relation_to_the_previous\n",
       "0         MainScreenAppear   7423                     100.0\n",
       "1       OffersScreenAppear   4597                      61.9\n",
       "2         CartScreenAppear   3736                      81.3\n",
       "3  PaymentScreenSuccessful   3540                      94.8\n",
       "4                 Tutorial    843                      23.8"
      ]
     },
     "execution_count": 49,
     "metadata": {},
     "output_type": "execute_result"
    }
   ],
   "source": [
    "previous_step_users = events_users.loc[0,'users']\n",
    "\n",
    "for i in events_users.index:\n",
    "    events_users.loc[i,'relation_to_the_previous'] = (events_users.loc[i,'users'] / previous_step_users * 100).round(1)\n",
    "    previous_step_users= events_users.loc[i,'users']\n",
    "events_users1=events_users  \n",
    "\n",
    "events_users1[['event',  'users', 'relation_to_the_previous']]\n"
   ]
  },
  {
   "cell_type": "markdown",
   "id": "b72d793d",
   "metadata": {},
   "source": [
    "Количество пользователей, которые перешли с главного экрана на просмотр предложений продуктов питания уменьшился на 38.1% (количество перешедших составило 61.9%). Далее, из просмотревших товары пользователей, 18.7 % не положили товар в корзину (81.3% воспользовались корзиной и положили в нее будущие покупки). Из положивших товары в корзину не оплачивают свои покупки только 5.2% пользователей, а остальные 94.8% пользователей, которые положили покупки в корзину, успешно оплачивают свои заказы. Больше всего пользователей теряется на этапе просмотра главного экрана мобильного приложения. Большой процент пользователей не захотел продолжить использоватеь мобильное приложение и не просмотрел предложения товаров стартапа. "
   ]
  },
  {
   "cell_type": "markdown",
   "id": "1e2c2b80",
   "metadata": {},
   "source": [
    "Теперь посмотрим на воронку в разрезе групп пользователей."
   ]
  },
  {
   "cell_type": "code",
   "execution_count": 50,
   "id": "dbe745e3",
   "metadata": {},
   "outputs": [
    {
     "data": {
      "text/html": [
       "<div>\n",
       "<style scoped>\n",
       "    .dataframe tbody tr th:only-of-type {\n",
       "        vertical-align: middle;\n",
       "    }\n",
       "\n",
       "    .dataframe tbody tr th {\n",
       "        vertical-align: top;\n",
       "    }\n",
       "\n",
       "    .dataframe thead th {\n",
       "        text-align: right;\n",
       "    }\n",
       "</style>\n",
       "<table border=\"1\" class=\"dataframe\">\n",
       "  <thead>\n",
       "    <tr style=\"text-align: right;\">\n",
       "      <th></th>\n",
       "      <th>event</th>\n",
       "      <th>group</th>\n",
       "      <th>users</th>\n",
       "      <th>relation_to_the_previous</th>\n",
       "    </tr>\n",
       "  </thead>\n",
       "  <tbody>\n",
       "    <tr>\n",
       "      <th>0</th>\n",
       "      <td>MainScreenAppear</td>\n",
       "      <td>248</td>\n",
       "      <td>2494</td>\n",
       "      <td>100.0</td>\n",
       "    </tr>\n",
       "    <tr>\n",
       "      <th>1</th>\n",
       "      <td>OffersScreenAppear</td>\n",
       "      <td>248</td>\n",
       "      <td>1531</td>\n",
       "      <td>61.4</td>\n",
       "    </tr>\n",
       "    <tr>\n",
       "      <th>2</th>\n",
       "      <td>CartScreenAppear</td>\n",
       "      <td>248</td>\n",
       "      <td>1231</td>\n",
       "      <td>80.4</td>\n",
       "    </tr>\n",
       "    <tr>\n",
       "      <th>3</th>\n",
       "      <td>PaymentScreenSuccessful</td>\n",
       "      <td>248</td>\n",
       "      <td>1182</td>\n",
       "      <td>96.0</td>\n",
       "    </tr>\n",
       "    <tr>\n",
       "      <th>4</th>\n",
       "      <td>Tutorial</td>\n",
       "      <td>248</td>\n",
       "      <td>281</td>\n",
       "      <td>23.8</td>\n",
       "    </tr>\n",
       "    <tr>\n",
       "      <th>5</th>\n",
       "      <td>MainScreenAppear</td>\n",
       "      <td>247</td>\n",
       "      <td>2479</td>\n",
       "      <td>100.0</td>\n",
       "    </tr>\n",
       "    <tr>\n",
       "      <th>6</th>\n",
       "      <td>OffersScreenAppear</td>\n",
       "      <td>247</td>\n",
       "      <td>1524</td>\n",
       "      <td>61.5</td>\n",
       "    </tr>\n",
       "    <tr>\n",
       "      <th>7</th>\n",
       "      <td>CartScreenAppear</td>\n",
       "      <td>247</td>\n",
       "      <td>1239</td>\n",
       "      <td>81.3</td>\n",
       "    </tr>\n",
       "    <tr>\n",
       "      <th>8</th>\n",
       "      <td>PaymentScreenSuccessful</td>\n",
       "      <td>247</td>\n",
       "      <td>1158</td>\n",
       "      <td>93.5</td>\n",
       "    </tr>\n",
       "    <tr>\n",
       "      <th>9</th>\n",
       "      <td>Tutorial</td>\n",
       "      <td>247</td>\n",
       "      <td>284</td>\n",
       "      <td>24.5</td>\n",
       "    </tr>\n",
       "    <tr>\n",
       "      <th>10</th>\n",
       "      <td>MainScreenAppear</td>\n",
       "      <td>246</td>\n",
       "      <td>2450</td>\n",
       "      <td>100.0</td>\n",
       "    </tr>\n",
       "    <tr>\n",
       "      <th>11</th>\n",
       "      <td>OffersScreenAppear</td>\n",
       "      <td>246</td>\n",
       "      <td>1542</td>\n",
       "      <td>62.9</td>\n",
       "    </tr>\n",
       "    <tr>\n",
       "      <th>12</th>\n",
       "      <td>CartScreenAppear</td>\n",
       "      <td>246</td>\n",
       "      <td>1266</td>\n",
       "      <td>82.1</td>\n",
       "    </tr>\n",
       "    <tr>\n",
       "      <th>13</th>\n",
       "      <td>PaymentScreenSuccessful</td>\n",
       "      <td>246</td>\n",
       "      <td>1200</td>\n",
       "      <td>94.8</td>\n",
       "    </tr>\n",
       "    <tr>\n",
       "      <th>14</th>\n",
       "      <td>Tutorial</td>\n",
       "      <td>246</td>\n",
       "      <td>278</td>\n",
       "      <td>23.2</td>\n",
       "    </tr>\n",
       "  </tbody>\n",
       "</table>\n",
       "</div>"
      ],
      "text/plain": [
       "                      event  group  users  relation_to_the_previous\n",
       "0          MainScreenAppear    248   2494                     100.0\n",
       "1        OffersScreenAppear    248   1531                      61.4\n",
       "2          CartScreenAppear    248   1231                      80.4\n",
       "3   PaymentScreenSuccessful    248   1182                      96.0\n",
       "4                  Tutorial    248    281                      23.8\n",
       "5          MainScreenAppear    247   2479                     100.0\n",
       "6        OffersScreenAppear    247   1524                      61.5\n",
       "7          CartScreenAppear    247   1239                      81.3\n",
       "8   PaymentScreenSuccessful    247   1158                      93.5\n",
       "9                  Tutorial    247    284                      24.5\n",
       "10         MainScreenAppear    246   2450                     100.0\n",
       "11       OffersScreenAppear    246   1542                      62.9\n",
       "12         CartScreenAppear    246   1266                      82.1\n",
       "13  PaymentScreenSuccessful    246   1200                      94.8\n",
       "14                 Tutorial    246    278                      23.2"
      ]
     },
     "execution_count": 50,
     "metadata": {},
     "output_type": "execute_result"
    }
   ],
   "source": [
    "events_users_bygroup = df.groupby(['event','group']).agg({'event':'count', 'user':'nunique'})\n",
    "events_users_bygroup.columns = ['n_events', 'users']\n",
    "events_users_bygroup = events_users_bygroup.reset_index()\n",
    "events_users_bygroup1=events_users_bygroup.sort_values(by=['group','users'], ascending=False).reset_index(drop=True)\n",
    "        \n",
    "previous_step_events_group_bygroup = -1\n",
    "for i in events_users_bygroup1.index: \n",
    "    \n",
    "    if previous_step_events_group_bygroup == events_users_bygroup1.loc[i,'group']:\n",
    "        events_users_bygroup1.loc[i,'relation_to_the_previous'] = (events_users_bygroup1.loc[i,'users'] / previous_step_events_users_bygroup * 100).round(1)\n",
    "        \n",
    "    else:\n",
    "        events_users_bygroup1.loc[i,'relation_to_the_previous'] = 100\n",
    "        previous_step_events_group_bygroup  = events_users_bygroup1.loc[i,'group']\n",
    "    previous_step_events_users_bygroup = events_users_bygroup1.loc[i,'users']  \n",
    "              \n",
    "events_users_bygroup1.sort_values(by=['relation_to_the_previous'], ascending=False).reset_index(drop=True)\n",
    "\n",
    "events_users_bygroup1\n",
    "events_users_bygroup1[['event', 'group', 'users', 'relation_to_the_previous']]\n",
    "\n"
   ]
  },
  {
   "cell_type": "markdown",
   "id": "17f2ba85",
   "metadata": {},
   "source": [
    "В таблице воронки в разрезе групп пользователей также виден отток пользователей на этапе просмотра главного экрана и высокий процент оплаты покупок пользователями, после того, как они положили товары себе в корзину. "
   ]
  },
  {
   "cell_type": "markdown",
   "id": "1d7a5b51",
   "metadata": {},
   "source": [
    "Подсчет доли пользователей, проходящих на следующий шаг воронки без учета последовательности событий."
   ]
  },
  {
   "cell_type": "markdown",
   "id": "0dea29e7",
   "metadata": {},
   "source": [
    "   Анализ таблицы перехода пользователей по шагам пользовательского пути показывает значительные потери на этапе перехода от главного экрана к процессу выбора покупок. \n",
    "   Данные  почти не отличаются в зависимости от номера группы. На первом этапе воронки при просмотре главного экрана ушли 37.1% пользователей из группы 246, 38.5% из группы 247 и 38.6% из группы 248. Далее на этапе просмотра предложений и до этапа занесения товара в корзину потеряли интерес к мобильному приложению 17.9 % пользователей групп 246 и 18.7% группы 247. Далее до самого важного этапа оплаты  товаров из корзины не пришли 5.2% пользователей группы 246, 6.2% группы 247 и 6% группы 248. \n",
    "    Получается следующая картина. Самый большой отток пользователей мобильного приложения происходит именно перед моментом просмотра предложения товара в мобильном приложении. Возможно нужно обратить внимание на интерфейс приложения, возможно людям неудобно находить меню или переходить с главного экрана в каталог товаров, а, возможно, интерфейс мобильного приложения не современный и не привлекает пользователей."
   ]
  },
  {
   "cell_type": "markdown",
   "id": "f0db9c81",
   "metadata": {},
   "source": [
    "На этапе изучения воронки событий были детально разобраны события, которые случаются с пользователем, при заказе продуктов питания в мобильном приложении. Проанализирована частота событий в общем и в разрезе исследуемых групп.  Изучен отток пользователей на каждом этапе воронки и даны рекомендации отделу маркетинга."
   ]
  },
  {
   "cell_type": "markdown",
   "id": "637d61c2",
   "metadata": {},
   "source": [
    "### Изучение результата эксперимента."
   ]
  },
  {
   "cell_type": "markdown",
   "id": "875cacd2",
   "metadata": {},
   "source": [
    "Подсчет пользователей в каждой экспериментальной группе."
   ]
  },
  {
   "cell_type": "code",
   "execution_count": 51,
   "id": "5bc8feaa",
   "metadata": {},
   "outputs": [
    {
     "data": {
      "text/html": [
       "<div>\n",
       "<style scoped>\n",
       "    .dataframe tbody tr th:only-of-type {\n",
       "        vertical-align: middle;\n",
       "    }\n",
       "\n",
       "    .dataframe tbody tr th {\n",
       "        vertical-align: top;\n",
       "    }\n",
       "\n",
       "    .dataframe thead th {\n",
       "        text-align: right;\n",
       "    }\n",
       "</style>\n",
       "<table border=\"1\" class=\"dataframe\">\n",
       "  <thead>\n",
       "    <tr style=\"text-align: right;\">\n",
       "      <th></th>\n",
       "      <th>user</th>\n",
       "      <th>%</th>\n",
       "    </tr>\n",
       "    <tr>\n",
       "      <th>group</th>\n",
       "      <th></th>\n",
       "      <th></th>\n",
       "    </tr>\n",
       "  </thead>\n",
       "  <tbody>\n",
       "    <tr>\n",
       "      <th>246</th>\n",
       "      <td>2484</td>\n",
       "      <td>32.95</td>\n",
       "    </tr>\n",
       "    <tr>\n",
       "      <th>247</th>\n",
       "      <td>2517</td>\n",
       "      <td>33.39</td>\n",
       "    </tr>\n",
       "    <tr>\n",
       "      <th>248</th>\n",
       "      <td>2537</td>\n",
       "      <td>33.66</td>\n",
       "    </tr>\n",
       "  </tbody>\n",
       "</table>\n",
       "</div>"
      ],
      "text/plain": [
       "       user      %\n",
       "group             \n",
       "246    2484  32.95\n",
       "247    2517  33.39\n",
       "248    2537  33.66"
      ]
     },
     "execution_count": 51,
     "metadata": {},
     "output_type": "execute_result"
    }
   ],
   "source": [
    "p=df.groupby('group').agg({'user': 'nunique'})\n",
    "p['%']= round((p/df['user'].nunique()*100),2)\n",
    "p"
   ]
  },
  {
   "cell_type": "markdown",
   "id": "73bef1f2",
   "metadata": {},
   "source": [
    "Немного теоретических данных: перед проведением A/B-теста, необходимо убедится, что: \n",
    "\n",
    "    на результаты не влияют аномалии и выбросы в генеральной совокупности;\n",
    "    инструмент «деления» трафика работает безошибочно;\n",
    "    данные отправляются в системы аналитики корректно.\n",
    "\n",
    "Для этого проводят A/A-тест. Он похож на A/B-тест, только группам показывают не разные, а одинаковые версии страниц. Если трафик и инструмент проведения A/A-теста не подвели, различий в показателях не будет. Ещё А/А-тест помогает определить длительность теста и методику анализа данных. \n",
    "Критерии успешного A/A-теста: \n",
    "\n",
    "    Количество пользователей в различных группах различается не более, чем на 1%;\n",
    "    Для всех групп фиксируют и отправляют в системы аналитики данные об одном и том же;\n",
    "    Различие ключевых метрик по группам не превышает 1% и не имеет статистической значимости;\n",
    "    Попавший в одну из групп посетитель остаётся в этой группе до конца теста. Если пользователь видит разные версии исследуемой страницы в ходе одного исследования, неизвестно, какая именно повлияла на его решения. Значит, и результаты такого теста нельзя интерпретировать однозначно.\n",
    "\n",
    "Степень различия ключевых метрик по группам зависит от необходимой чувствительности эксперимента. Скажем, если вы хотите определить результаты теста, в котором ожидаете не менее 30% прироста, то 10% погрешности измерений вас устроят. Однако такое бывает редко: изменение показателей на 30% обычно заметно и без A/B-теста. Его применяют там, где степень различия между группами не больше 10%, или же подвержены колебаниям. В таких случаях точность A/A-теста в 1% — распространённый критерий."
   ]
  },
  {
   "cell_type": "markdown",
   "id": "b46d62b7",
   "metadata": {},
   "source": [
    "Исходя из теоретических данных, применим статистические критерии для поиска разницы между контрольными группами 246 и 247 в разрезе событий с уровнем статистической значимости 0.01. Также учитывая множественность тестирования будет применена поправка Шидака."
   ]
  },
  {
   "cell_type": "markdown",
   "id": "ff61a3b0",
   "metadata": {},
   "source": [
    "Подготовим таблицу с количеством пользователей, совершивших каждое из событий, по которым будет идти проверка."
   ]
  },
  {
   "cell_type": "code",
   "execution_count": 52,
   "id": "a21d0f64",
   "metadata": {},
   "outputs": [
    {
     "data": {
      "text/html": [
       "<div>\n",
       "<style scoped>\n",
       "    .dataframe tbody tr th:only-of-type {\n",
       "        vertical-align: middle;\n",
       "    }\n",
       "\n",
       "    .dataframe tbody tr th {\n",
       "        vertical-align: top;\n",
       "    }\n",
       "\n",
       "    .dataframe thead th {\n",
       "        text-align: right;\n",
       "    }\n",
       "</style>\n",
       "<table border=\"1\" class=\"dataframe\">\n",
       "  <thead>\n",
       "    <tr style=\"text-align: right;\">\n",
       "      <th></th>\n",
       "      <th>event_name</th>\n",
       "      <th>246</th>\n",
       "      <th>247</th>\n",
       "      <th>248</th>\n",
       "      <th>246_247</th>\n",
       "      <th>all_groups</th>\n",
       "      <th>246_all</th>\n",
       "      <th>247_all</th>\n",
       "      <th>248_all</th>\n",
       "      <th>246+247_all</th>\n",
       "    </tr>\n",
       "  </thead>\n",
       "  <tbody>\n",
       "    <tr>\n",
       "      <th>0</th>\n",
       "      <td>MainScreenAppear</td>\n",
       "      <td>2450</td>\n",
       "      <td>2479</td>\n",
       "      <td>2494</td>\n",
       "      <td>4929</td>\n",
       "      <td>7423</td>\n",
       "      <td>2484</td>\n",
       "      <td>2517</td>\n",
       "      <td>2537</td>\n",
       "      <td>5001</td>\n",
       "    </tr>\n",
       "    <tr>\n",
       "      <th>1</th>\n",
       "      <td>OffersScreenAppear</td>\n",
       "      <td>1542</td>\n",
       "      <td>1524</td>\n",
       "      <td>1531</td>\n",
       "      <td>3066</td>\n",
       "      <td>4597</td>\n",
       "      <td>2484</td>\n",
       "      <td>2517</td>\n",
       "      <td>2537</td>\n",
       "      <td>5001</td>\n",
       "    </tr>\n",
       "    <tr>\n",
       "      <th>2</th>\n",
       "      <td>CartScreenAppear</td>\n",
       "      <td>1266</td>\n",
       "      <td>1239</td>\n",
       "      <td>1231</td>\n",
       "      <td>2505</td>\n",
       "      <td>3736</td>\n",
       "      <td>2484</td>\n",
       "      <td>2517</td>\n",
       "      <td>2537</td>\n",
       "      <td>5001</td>\n",
       "    </tr>\n",
       "    <tr>\n",
       "      <th>3</th>\n",
       "      <td>PaymentScreenSuccessful</td>\n",
       "      <td>1200</td>\n",
       "      <td>1158</td>\n",
       "      <td>1182</td>\n",
       "      <td>2358</td>\n",
       "      <td>3540</td>\n",
       "      <td>2484</td>\n",
       "      <td>2517</td>\n",
       "      <td>2537</td>\n",
       "      <td>5001</td>\n",
       "    </tr>\n",
       "  </tbody>\n",
       "</table>\n",
       "</div>"
      ],
      "text/plain": [
       "                event_name   246   247   248  246_247  all_groups  246_all  \\\n",
       "0         MainScreenAppear  2450  2479  2494     4929        7423     2484   \n",
       "1       OffersScreenAppear  1542  1524  1531     3066        4597     2484   \n",
       "2         CartScreenAppear  1266  1239  1231     2505        3736     2484   \n",
       "3  PaymentScreenSuccessful  1200  1158  1182     2358        3540     2484   \n",
       "\n",
       "   247_all  248_all  246+247_all  \n",
       "0     2517     2537         5001  \n",
       "1     2517     2537         5001  \n",
       "2     2517     2537         5001  \n",
       "3     2517     2537         5001  "
      ]
     },
     "execution_count": 52,
     "metadata": {},
     "output_type": "execute_result"
    }
   ],
   "source": [
    "order = (events[events['event_name'] != 'Tutorial'].sort_values('n_events', ascending=False)['event_name'].reset_index(drop=True))\n",
    "\n",
    "groups = [246, 247, 248]\n",
    "test_data = {}\n",
    "test_data['event_name'] = order\n",
    "for group in groups:\n",
    "    test_data[group] =[]\n",
    "    for event in order:\n",
    "        test_data[group].append(df[(df['group'] == group) & (df['event'] == event)]['user'].nunique())\n",
    "\n",
    "test_data = pd.DataFrame(test_data)\n",
    "test_data['246_247'] = test_data[246] + test_data[247]\n",
    "test_data['all_groups'] = test_data[246] + test_data[247] + test_data[248]\n",
    "test_data['246_all'] =   df[df['group']==246]['user'].nunique()\n",
    "test_data['247_all'] =   df[df['group']==247]['user'].nunique()\n",
    "test_data['248_all'] =   df[df['group']==248]['user'].nunique()\n",
    "test_data['246+247_all'] = df[(df['group']==246) | (df['group']==247)]['user'].nunique()\n",
    "test_data"
   ]
  },
  {
   "cell_type": "markdown",
   "id": "83feeb3b",
   "metadata": {},
   "source": [
    "Подготовим функцию для математических вычислений для статистического теста, возвращающую расчетное значение в стандартных отклонениях нормального распределения."
   ]
  },
  {
   "cell_type": "code",
   "execution_count": 53,
   "id": "61d2abae",
   "metadata": {},
   "outputs": [],
   "source": [
    "def z_test (number_1, number_2, all_number_1, all_number_2):\n",
    "        # пропорция успехов в первой группе:\n",
    "        p1 = number_1 / all_number_1\n",
    "        # пропорция успехов во второй группе:\n",
    "        p2 = number_2 / all_number_2\n",
    "        # пропорция успехов в комбинированном датасете:\n",
    "        p_comb = (number_1+number_2)/(all_number_1 +all_number_2)\n",
    "        # разница пропорций\n",
    "        diff = p1 - p2\n",
    "        #расчет  статистики в стандартных отклонениях стандартного нормального распределения\n",
    "        z_value = diff/mth.sqrt(p_comb * (1 - p_comb)*(1/all_number_1 +1/all_number_2))\n",
    "    \n",
    "        return  z_value"
   ]
  },
  {
   "cell_type": "markdown",
   "id": "00c80c4e",
   "metadata": {},
   "source": [
    "Сделаем расчет поправки для множественных тестов."
   ]
  },
  {
   "cell_type": "markdown",
   "id": "49471b7f",
   "metadata": {},
   "source": [
    "Несколько сравнений, проводимых на одних и тех же данных — это множественный тест. Его важная особенность в том, что с каждой новой проверкой гипотезы растёт вероятность ошибки первого рода. \n",
    "\n",
    "    Метод Шидака\n",
    "Скорректированное значение требуемого уровня значимости рассчитывается по  формуле 1 - (1 - a)^(1/m), где а- альфа, а m- количество сравнений. В исследвании нам предстоит сделать 16 статистических тестов, 4 из них для определения равенства контрольных групп 246 и 247 с уровнем значимости 0.01, а остальные сревнения контрольных групп с экспериментальной группой 248 и сравнение объединенных контрольных групп с экспериментальной с уровнем значимости 0.05.\n",
    "При ɑ = 0.01, m = 4 при 4 сравнениях 1 - (1 - 0.05)**(1/4) =0.002509430066318874\n",
    "\n",
    "А при ɑ = 0.05, m = 12 при 12 сравнениях: 1 - (1 - 0.05)**(1/12) = 0.004265318777560645"
   ]
  },
  {
   "cell_type": "markdown",
   "id": "f88bce30",
   "metadata": {},
   "source": [
    "Сформулируем гипотезы:\n",
    "\n",
    "Нулевая гипотеза: различий между контрольными группами 246 и 247 в разрезе событий нет\n",
    "\n",
    "Альтернативная гипотеза: различия между контрольными группами 246 и 247 в разрезе событий есть"
   ]
  },
  {
   "cell_type": "markdown",
   "id": "d61003ac",
   "metadata": {},
   "source": [
    "Вызовем 4 цикла, в которых вызывается функция для подстчета математических данных, для каждой пары исследуемых групп т.е. всего 4 цикла."
   ]
  },
  {
   "cell_type": "code",
   "execution_count": 54,
   "id": "6343922e",
   "metadata": {},
   "outputs": [
    {
     "name": "stdout",
     "output_type": "stream",
     "text": [
      "MainScreenAppear p-значение: 0.6756217702005545\n",
      "Не получилось отвергнуть нулевую гипотезу, нет оснований считать группы 246 и 247 разными\n",
      "OffersScreenAppear p-значение: 0.26698769175859516\n",
      "Не получилось отвергнуть нулевую гипотезу, нет оснований считать группы 246 и 247 разными\n",
      "CartScreenAppear p-значение: 0.2182812140633792\n",
      "Не получилось отвергнуть нулевую гипотезу, нет оснований считать группы 246 и 247 разными\n",
      "PaymentScreenSuccessful p-значение: 0.10298394982948822\n",
      "Не получилось отвергнуть нулевую гипотезу, нет оснований считать группы 246 и 247 разными\n"
     ]
    }
   ],
   "source": [
    "alpha =0.01\n",
    "m = 4\n",
    "alpha_Shidak=1 - (1 - alpha)**(1/m)\n",
    "distr = stats.norm(0, 1) \n",
    "for i in test_data.index:\n",
    "    number_1= test_data.loc[i, 246]\n",
    "    number_2= test_data.loc[i, 247]\n",
    "    all_number_1= test_data.loc[i, '246_all']\n",
    "    all_number_2= test_data.loc[i, '247_all']\n",
    "    z_value=z_test (number_1, number_2, all_number_1, all_number_2)\n",
    "    \n",
    "    p_value = (1 - distr.cdf(abs(z_value))) * 2\n",
    "    print('{} p-значение: {}'.format(test_data['event_name'][i], p_value))\n",
    "    if (p_value < alpha_Shidak):\n",
    "        print(\"Отвергаем нулевую гипотезу: между группами 246 и 247 есть значимая разница\")\n",
    "    else:\n",
    "        print(\"Не получилось отвергнуть нулевую гипотезу, нет оснований считать группы 246 и 247 разными\")"
   ]
  },
  {
   "cell_type": "markdown",
   "id": "deec0d7a",
   "metadata": {},
   "source": [
    "Теперь сравним результаты с каждой из контрольных групп в отдельности по каждому событию с группой 248.\n",
    "Группы 246 и 248.\n",
    "\n",
    "Сформулируем гипотезы:\n",
    "\n",
    "Нулевая гипотеза: различий между контрольной группой 246 и экспериментальной 248 группой в разрезе событий нет\n",
    "\n",
    "Альтернативная гипотеза: различия между контрольной группой 246 и экспериментальной 248 группой в разрезе событий есть"
   ]
  },
  {
   "cell_type": "code",
   "execution_count": 55,
   "id": "8ed041f9",
   "metadata": {},
   "outputs": [
    {
     "name": "stdout",
     "output_type": "stream",
     "text": [
      "MainScreenAppear p-значение: 0.34705881021236484\n",
      "Не получилось отвергнуть нулевую гипотезу, нет оснований считать группы 246 и 248 разными\n",
      "OffersScreenAppear p-значение: 0.20836205402738917\n",
      "Не получилось отвергнуть нулевую гипотезу, нет оснований считать группы 246 и 248 разными\n",
      "CartScreenAppear p-значение: 0.08328412977507749\n",
      "Не получилось отвергнуть нулевую гипотезу, нет оснований считать группы 246 и 248 разными\n",
      "PaymentScreenSuccessful p-значение: 0.22269358994682742\n",
      "Не получилось отвергнуть нулевую гипотезу, нет оснований считать группы 246 и 248 разными\n"
     ]
    }
   ],
   "source": [
    "alpha =0.05\n",
    "m = 12\n",
    "alpha_Shidak=1 - (1 - alpha)**(1/m) \n",
    "\n",
    "distr = stats.norm(0, 1) \n",
    "for i in test_data.index:\n",
    "    number_1= test_data.loc[i, 246]\n",
    "    number_2= test_data.loc[i, 248]\n",
    "    all_number_1= test_data.loc[i, '246_all']\n",
    "    all_number_2= test_data.loc[i, '248_all']\n",
    "    z_value=z_test (number_1, number_2, all_number_1, all_number_2)\n",
    "    \n",
    "    p_value = (1 - distr.cdf(abs(z_value))) * 2\n",
    "   \n",
    "    print('{} p-значение: {}'.format(test_data['event_name'][i], p_value))\n",
    "    if (p_value < alpha_Shidak):\n",
    "        print(\"Отвергаем нулевую гипотезу: между группами 246 и 248 есть значимая разница\")\n",
    "    else:\n",
    "        print(\"Не получилось отвергнуть нулевую гипотезу, нет оснований считать группы 246 и 248 разными\")"
   ]
  },
  {
   "cell_type": "markdown",
   "id": "7afb1d80",
   "metadata": {},
   "source": [
    "Группы 247 и 248.\n",
    "\n",
    "Сформулируем гипотезы:\n",
    "\n",
    "Нулевая гипотеза: различий между контрольной группой 247 и экспериментальной 248 группой в разрезе событий нет\n",
    "\n",
    "Альтернативная гипотеза: различия между контрольной группой 247 и экспериментальной 248 группой в разрезе событий есть"
   ]
  },
  {
   "cell_type": "code",
   "execution_count": 56,
   "id": "753bd123",
   "metadata": {},
   "outputs": [
    {
     "name": "stdout",
     "output_type": "stream",
     "text": [
      "MainScreenAppear p-значение: 0.6001661582453706\n",
      "Не получилось отвергнуть нулевую гипотезу, нет оснований считать группы 247 и 248 разными\n",
      "OffersScreenAppear p-значение: 0.8835956656016957\n",
      "Не получилось отвергнуть нулевую гипотезу, нет оснований считать группы 247 и 248 разными\n",
      "CartScreenAppear p-значение: 0.6169517476996997\n",
      "Не получилось отвергнуть нулевую гипотезу, нет оснований считать группы 247 и 248 разными\n",
      "PaymentScreenSuccessful p-значение: 0.6775413642906454\n",
      "Не получилось отвергнуть нулевую гипотезу, нет оснований считать группы 247 и 248 разными\n"
     ]
    }
   ],
   "source": [
    "alpha =0.05\n",
    "m = 12\n",
    "alpha_Shidak=1 - (1 - alpha)**(1/m) \n",
    "distr = stats.norm(0, 1) \n",
    "for i in test_data.index:\n",
    "    number_1= test_data.loc[i, 247]\n",
    "    number_2= test_data.loc[i, 248]\n",
    "    all_number_1= test_data.loc[i, '247_all']\n",
    "    all_number_2= test_data.loc[i, '248_all']\n",
    "    z_value=z_test (number_1, number_2, all_number_1, all_number_2)\n",
    "    \n",
    "    p_value = (1 - distr.cdf(abs(z_value))) * 2\n",
    "    print('{} p-значение: {}'.format(test_data['event_name'][i], p_value))\n",
    "    if (p_value < alpha_Shidak):\n",
    "        print(\"Отвергаем нулевую гипотезу: между группами 247 и 248 есть значимая разница\")\n",
    "    else:\n",
    "        print(\"Не получилось отвергнуть нулевую гипотезу, нет оснований считать группы 247 и 248 разными\")"
   ]
  },
  {
   "cell_type": "markdown",
   "id": "0f68a4b1",
   "metadata": {},
   "source": [
    "Теперь сравним контрольные 246 и 247, объединенные в одну группу, с экспериментальной 248-ой: Сформулируем гипотезы:\n",
    "\n",
    "Нулевая гипотеза: различий между контрольными группами 246+247 и 248 в разрезе событий нет\n",
    "\n",
    "Альтернативная гипотеза: различия между контрольными группами 246+247 и 248 в разрезе событий есть\n"
   ]
  },
  {
   "cell_type": "code",
   "execution_count": 57,
   "id": "647d9ca1",
   "metadata": {},
   "outputs": [
    {
     "name": "stdout",
     "output_type": "stream",
     "text": [
      "MainScreenAppear p-значение: 0.39298914928006035\n",
      "Не получилось отвергнуть нулевую гипотезу, нет оснований считать группы 246+247 и 248 разными\n",
      "OffersScreenAppear p-значение: 0.418998284007599\n",
      "Не получилось отвергнуть нулевую гипотезу, нет оснований считать группы 246+247 и 248 разными\n",
      "CartScreenAppear p-значение: 0.19819340844527744\n",
      "Не получилось отвергнуть нулевую гипотезу, нет оснований считать группы 246+247 и 248 разными\n",
      "PaymentScreenSuccessful p-значение: 0.6452057673098244\n",
      "Не получилось отвергнуть нулевую гипотезу, нет оснований считать группы 246+247 и 248 разными\n"
     ]
    }
   ],
   "source": [
    "alpha =0.05\n",
    "m = 12\n",
    "alpha_Shidak=1 - (1 - alpha)**(1/m) \n",
    "distr = stats.norm(0, 1) \n",
    "for i in test_data.index:\n",
    "    number_1= test_data.loc[i, '246_247']\n",
    "    number_2= test_data.loc[i, 248]\n",
    "    all_number_1= test_data.loc[i, '246+247_all']\n",
    "    all_number_2= test_data.loc[i, '248_all']\n",
    "    z_value=z_test (number_1, number_2, all_number_1, all_number_2)\n",
    "    \n",
    "    p_value = (1 - distr.cdf(abs(z_value))) * 2\n",
    "    print('{} p-значение: {}'.format(test_data['event_name'][i], p_value))\n",
    "    if (p_value < alpha_Shidak):\n",
    "        print(\"Отвергаем нулевую гипотезу: между группами 246+247 и 248 есть значимая разница\")\n",
    "    else:\n",
    "        print(\"Не получилось отвергнуть нулевую гипотезу, нет оснований считать группы 246+247 и 248 разными\")"
   ]
  },
  {
   "cell_type": "markdown",
   "id": "86e5fff1",
   "metadata": {},
   "source": [
    "Статистические критерии показали отсутствие оснований считать контрольную объединенную группу 246 + 247 и экспериментальную 248 в разрезе событий разными."
   ]
  },
  {
   "cell_type": "markdown",
   "id": "a46780e1",
   "metadata": {},
   "source": [
    "Все проведенные статистические тесты показали отсутствие разницы между группами. Всего проведено 16 тестов между контрольными и экспериментальной группами. Уровень статистической значимости для теста между контрольными группами 246 и 247 взят 0.01. (Проведено 4 теста). Для исследования остальных групп принят уровень статистической значимости 0.05 (Проведено 12 тестов). Уровень статистической значимости использован с попрвкой Шидака."
   ]
  },
  {
   "cell_type": "markdown",
   "id": "89959819",
   "metadata": {},
   "source": [
    "### Выводы."
   ]
  },
  {
   "cell_type": "markdown",
   "id": "de41c5a6",
   "metadata": {},
   "source": [
    "Стартапу, продающему через мобильное приложение продукты питания, необходимо провести анализ поведения пользователей в мобильном приложении для определения целесообразности перехода мобильного приложения на новый шрифт. В исследовании участвуют 3 группы (контрольная 246, 247 и экспериментальная 248 (которой и показывается новый шрифт).\n",
    "   \n",
    "   Для проведения анализа предоставлены данные в размере 244 126  строк, в которых в процессе предобработки данных были обнаружены и исправлены: несоответствия формата даты, исследованы и удалены дубликаты ( 413 строк - 0.17 % от имеющихся данных), произведен подсчет и сравнение количества уникальных пользователей, разделенных на группы. Выяснено, что имеется лишь очень незначительное неравенство количества пользователей в трех группах. Дальнейшая проверка равенства групп проводилась с использованием статистических критериев.\n",
    "   \n",
    "   На этапе изучения данных выявлены 5 событий в логе: MainScreenAppear, OffersScreenAppear, CartScreenAppear, PaymentScreenSuccessful и Tutorial. Самое популярное из них просмотр главного экрана (MainScreenAppear).  Среднее количество событий на пользователя 32.28, однако в ходе исследования обнаружены выбросы, слишком большие значения, которые повлияли на среднее арифметическое значение. Принято решение посчитать медианное количество событий на пользователя и оно равно 20 событиям на пользователя.\n",
    "    \n",
    "   Далее произведен анализ временного периода предоставленных данных. Данные собраны с 25.07. по 07.08.2019 года. Проведенный анализ показал неполноту данных и невозможность их использования за первые дни сбора данных. Принято решение об участии в исследовании данных с 21:00 31.07.2019 года. Потеря данных по пользователям составила 13 шт., 0.17% от общего количества данных. Потеря данных по событиям составила 1989 шт., 0.8% от общего количества данных. Такие потери могут считаться очень маленькими и их необходимо отбросить, чтобы получить качественное исследование.\n",
    "    \n",
    "   Изучение воронки событий показала, что самое непопулярное место в мобильном приложении это руководство пользователя. Самым популярным событием является просмотр главного экрана. Далее пользователи просматривают предложения на своем экране. Третий по популярности просмотр экрана корзины. Далее пользователи оплачивают свои покупки, просматривая страницы оплаты. Самый непопулярный раздел сайта - обучающий. Количество пользователей, которые перешли с главного экрана на просмотр предложений продуктов питания уменьшился на 38.1% (количество перешедших составило 61.9%). Далее, из просмотревших товары пользователей, 18.7 % не положили товар в корзину (81.3% воспользовались корзиной и положили в нее будущие покупки). Из положивших товары в корзину не оплачивают свои покупки только 5.2% пользователей, а остальные 94.8% пользователей, которые положили покупки в корзину, успешно оплачивают свои заказы. \n",
    "   \n",
    "   Больше всего пользователей теряется на этапе просмотра главного экрана мобильного приложения. Большой процент пользователей не захотел продолжить использоватеь мобильное приложение и не просмотрел предложения товаров стартапа. Возможные причины нежелания людей просматривать товары: не привлекательный внешний вид мобильного приложения, запутанный интерфейс. Нужно отбратить внимание отдела маркетинга на большой отток пользователей мобильного приложения перед просмотром товаров.\n",
    "   \n",
    "   Далее применялись статистические критерии для поиска разницы в поведении контрольных 246,247 и экспериментальной 248 группы. Для начала проверялось отсутствие статистически значимой разницы между контрольными группами 246 и 247. Уровень статистической значимости для данных тестов использовался на уровне 1%, поскольку определение оснований наличия или отсутствия равенства между контрольными группами требует большей точности, чем стандартные критерии для А/В тестирования в размере 5%. В исследовании был применен метод Шидака. Скорректированное значение расчитывалось при ɑ = 0.01 на 4 теста  (в расчетах m = 4) и ɑ = 0.05  при 12 сравнениях (m = 12 в 12 расчетах). \n",
    "     \n",
    "   Все проведенные тесты показали отсутствие разницы между поведением пользователей по событиям в разрезе групп. Соответственно, тестирование показало отсутствие разницы для пользователя какой именно шрифт (тот, к которому привыкли пользователи или новый шрифт, который показывался 248 группе пользователей) будет использован в работе мобильного приложения.\n",
    "   \n",
    "   Соответственно, по результатам тестирования новый шрифт можно не внедрять, а потратить ресурсы стартапа на проведение изучения причин оттока пользователей мобильного приложения после просмотра главного экрана, на повышение привлекательности мобильного приложежния и на улучшение интерфеса, неудобства которого, могут быть причиной нежелания пользователей просматривать товары мобильного приложения."
   ]
  },
  {
   "cell_type": "code",
   "execution_count": null,
   "id": "fa97f2a8",
   "metadata": {},
   "outputs": [],
   "source": []
  }
 ],
 "metadata": {
  "kernelspec": {
   "display_name": "Python 3 (ipykernel)",
   "language": "python",
   "name": "python3"
  },
  "language_info": {
   "codemirror_mode": {
    "name": "ipython",
    "version": 3
   },
   "file_extension": ".py",
   "mimetype": "text/x-python",
   "name": "python",
   "nbconvert_exporter": "python",
   "pygments_lexer": "ipython3",
   "version": "3.9.13"
  }
 },
 "nbformat": 4,
 "nbformat_minor": 5
}
